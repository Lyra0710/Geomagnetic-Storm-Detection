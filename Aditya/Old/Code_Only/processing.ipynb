{
 "cells": [
  {
   "cell_type": "code",
   "execution_count": null,
   "metadata": {},
   "outputs": [],
   "source": [
    "import pandas as pd"
   ]
  },
  {
   "cell_type": "code",
   "execution_count": null,
   "metadata": {},
   "outputs": [],
   "source": [
    "# Read txt file line by line and store to a list\n",
    "with open('C:/Users/hifia/Projects/NASA SpaceApps/Datasets/Real_Time_Data.txt', 'r') as f:\n",
    "    lines = f.readlines()\n",
    "    lines = [line.strip() for line in lines]\n",
    "\n",
    "print(lines[0:5])"
   ]
  },
  {
   "cell_type": "code",
   "execution_count": null,
   "metadata": {},
   "outputs": [],
   "source": [
    "import re\n",
    "\n",
    "def compress_whitespace(input_string):\n",
    "    # Use a regular expression to replace multiple whitespaces with a single space\n",
    "    compressed_string = re.sub(r'\\s+', ' ', input_string)\n",
    "    return compressed_string\n",
    "\n",
    "# Example usage:\n",
    "fixed = []\n",
    "for i in lines:\n",
    "    fixed.append(compress_whitespace(i))\n"
   ]
  },
  {
   "cell_type": "code",
   "execution_count": 6,
   "metadata": {},
   "outputs": [
    {
     "name": "stdout",
     "output_type": "stream",
     "text": [
      "['\\ufeffTimestamp Source Bt-med Bt-min Bt-max Bx-med Bx-min Bx-max By-med By-min By-max Bz-med Bz-min Bz-max Phi-mean Phi-min Phi-max Theta-med Theta-min Theta-max Dens-med Dens-min Dens-max Speed-med Speed-min Speed-max Temp-med Temp-min Temp-max', '2022-10-31 12:00:00 1 4.96 3.41 5.55 1.45 -2.51 3.03 2.80 -4.01 4.54 -3.52 -4.92 -0.71 57.80 1.85 345.43 -46.77 -74.26 -8.52 9.77 6.08 10.79 479.40 457.20 497.00 255620 119723 306989', '2022-10-31 18:00:00 1 4.89 3.58 6.40 -0.49 -3.86 4.89 3.92 0.39 5.53 -0.05 -4.86 3.28 94.77 11.35 157.49 -0.69 -65.95 44.38 10.04 6.29 11.21 471.70 450.30 502.40 246035 123225 291427', '2022-11-01 00:00:00 1 4.66 3.25 5.14 -3.18 -4.66 4.58 0.81 -1.46 3.61 1.91 -4.59 3.98 151.58 0.41 358.68 24.39 -67.33 63.67 8.18 5.43 11.14 462.30 442.90 488.50 202911 98993 329715', '2022-11-01 06:00:00 1 4.03 2.52 5.09 -0.49 -3.71 3.32 1.84 -1.97 3.81 -2.27 -4.77 2.42 106.18 10.34 345.32 -36.56 -79.57 37.08 7.97 4.47 10.04 462.10 427.50 483.60 222950 94413 307277']\n"
     ]
    }
   ],
   "source": [
    "print(fixed[0:5])"
   ]
  },
  {
   "cell_type": "code",
   "execution_count": 7,
   "metadata": {},
   "outputs": [
    {
     "name": "stdout",
     "output_type": "stream",
     "text": [
      "Data has been written to Real_Time_Data.csv\n"
     ]
    }
   ],
   "source": [
    "import csv\n",
    "import os\n",
    "\n",
    "os.chdir('C:/Users/hifia/Projects/NASA SpaceApps/Datasets/')\n",
    "# Define the CSV file name\n",
    "csv_file_name = 'Real_Time_Data.csv'\n",
    "\n",
    "# Split the headers and entries\n",
    "headers = fixed[0].split()\n",
    "entries = [entry.split() for entry in fixed[1:]]\n",
    "\n",
    "# Write data to the CSV file\n",
    "with open(csv_file_name, 'w', newline='') as csv_file:\n",
    "    csv_writer = csv.writer(csv_file)\n",
    "    \n",
    "    # Write the headers\n",
    "    csv_writer.writerow(headers)\n",
    "    \n",
    "    # Write the entries\n",
    "    csv_writer.writerows(entries)\n",
    "\n",
    "print(f'Data has been written to {csv_file_name}')\n"
   ]
  },
  {
   "cell_type": "code",
   "execution_count": 5,
   "metadata": {},
   "outputs": [],
   "source": [
    "import pandas as pd\n",
    "df = pd.read_csv('../Datasets/Real_Time_Data.csv')\n",
    "df1 = df.copy()"
   ]
  },
  {
   "cell_type": "code",
   "execution_count": 9,
   "metadata": {},
   "outputs": [],
   "source": [
    "pd.DataFrame(pd.read_json('../Datasets/Kp.json')).to_csv('../Datasets/Kp.csv', index=False)"
   ]
  },
  {
   "cell_type": "code",
   "execution_count": 11,
   "metadata": {},
   "outputs": [],
   "source": [
    "# Load the CSV file into a DataFrame\n",
    "df = pd.read_csv('../Datasets/Kp.csv')\n",
    "\n",
    "# Convert the 'datetime' column to a datetime object\n",
    "df['datetime'] = pd.to_datetime(df['datetime'])\n",
    "\n",
    "# Format the 'datetime' column to remove the timezone information\n",
    "df['datetime'] = df['datetime'].dt.strftime('%Y-%m-%d %H:%M:%S')\n",
    "\n",
    "# Save the DataFrame back to the CSV file\n",
    "df.to_csv('../Datasets/Kp.csv', index=False)"
   ]
  },
  {
   "cell_type": "code",
   "execution_count": 13,
   "metadata": {},
   "outputs": [
    {
     "name": "stderr",
     "output_type": "stream",
     "text": [
      "C:\\Users\\hifia\\AppData\\Local\\Temp\\ipykernel_18936\\3320324026.py:2: UserWarning: Parsing dates in %d-%m-%Y %H:%M format when dayfirst=False (the default) was specified. Pass `dayfirst=True` or specify a format to silence this warning.\n",
      "  df1 = pd.read_csv('../Datasets/Real_Time_Data.csv', parse_dates=['Timestamp'])\n"
     ]
    }
   ],
   "source": [
    "# Load CSV1 and CSV2 into DataFrames\n",
    "df1 = pd.read_csv('../Datasets/Real_Time_Data.csv', parse_dates=['Timestamp'])\n",
    "df2 = pd.read_csv('../Datasets/Kp.csv', parse_dates=['datetime'])\n",
    "\n",
    "df1['Timestamp'] = pd.to_datetime(df1['Timestamp'], format='%d-%m-%Y %H:%M')\n",
    "df2['datetime'] = pd.to_datetime(df2['datetime'], format='%d-%m-%Y %H:%M')\n",
    "\n",
    "# Merge the DataFrames based on the 'Timestamp' and 'datetime' columns\n",
    "merged_df = df1.merge(df2, left_on='Timestamp', right_on='datetime', how='left')\n",
    "\n",
    "# Drop the duplicate 'datetime' column\n",
    "merged_df = merged_df.drop(columns=['datetime'])\n",
    "\n",
    "# Save the merged DataFrame back to CSV1\n",
    "merged_df.to_csv('CSV1_updated.csv', index=False)"
   ]
  },
  {
   "cell_type": "code",
   "execution_count": null,
   "metadata": {},
   "outputs": [],
   "source": [
    "df = pd.read_csv('Final1.csv').dropna(subset=['Kp'])\n",
    "\n",
    "# Save the DataFrame back to the CSV file\n",
    "df.to_csv('Final2.csv', index=False)"
   ]
  }
 ],
 "metadata": {
  "kernelspec": {
   "display_name": "SpaceApps",
   "language": "python",
   "name": "python3"
  },
  "language_info": {
   "codemirror_mode": {
    "name": "ipython",
    "version": 3
   },
   "file_extension": ".py",
   "mimetype": "text/x-python",
   "name": "python",
   "nbconvert_exporter": "python",
   "pygments_lexer": "ipython3",
   "version": "3.10.12"
  }
 },
 "nbformat": 4,
 "nbformat_minor": 2
}
