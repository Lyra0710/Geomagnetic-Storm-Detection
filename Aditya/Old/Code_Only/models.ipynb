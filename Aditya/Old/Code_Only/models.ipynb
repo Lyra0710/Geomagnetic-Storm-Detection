{
 "cells": [
  {
   "cell_type": "code",
   "execution_count": 2,
   "metadata": {},
   "outputs": [],
   "source": [
    "import pandas as pd\n",
    "import numpy as np\n",
    "import matplotlib.pyplot as plt\n",
    "import seaborn as sns\n",
    "import os\n",
    "from sklearn.model_selection import train_test_split\n",
    "from sklearn.metrics import mean_squared_error\n",
    "from sklearn.linear_model import LinearRegression"
   ]
  },
  {
   "cell_type": "code",
   "execution_count": 3,
   "metadata": {},
   "outputs": [],
   "source": [
    "df = pd.read_csv('../Datasets/Merged_Dataset.csv')\n",
    "df1 = df.copy()"
   ]
  },
  {
   "cell_type": "code",
   "execution_count": 4,
   "metadata": {},
   "outputs": [
    {
     "name": "stdout",
     "output_type": "stream",
     "text": [
      "<class 'pandas.core.frame.DataFrame'>\n",
      "RangeIndex: 1108 entries, 0 to 1107\n",
      "Data columns (total 30 columns):\n",
      " #   Column     Non-Null Count  Dtype  \n",
      "---  ------     --------------  -----  \n",
      " 0   Timestamp  1108 non-null   object \n",
      " 1   Source     1108 non-null   int64  \n",
      " 2   Bt-med     1108 non-null   float64\n",
      " 3   Bt-min     1108 non-null   float64\n",
      " 4   Bt-max     1108 non-null   float64\n",
      " 5   Bx-med     1108 non-null   float64\n",
      " 6   Bx-min     1108 non-null   float64\n",
      " 7   Bx-max     1108 non-null   float64\n",
      " 8   By-med     1108 non-null   float64\n",
      " 9   By-min     1108 non-null   float64\n",
      " 10  By-max     1108 non-null   float64\n",
      " 11  Bz-med     1108 non-null   float64\n",
      " 12  Bz-min     1108 non-null   float64\n",
      " 13  Bz-max     1108 non-null   float64\n",
      " 14  Phi-mean   1108 non-null   float64\n",
      " 15  Phi-min    1108 non-null   float64\n",
      " 16  Phi-max    1108 non-null   float64\n",
      " 17  Theta-med  1108 non-null   float64\n",
      " 18  Theta-min  1108 non-null   float64\n",
      " 19  Theta-max  1108 non-null   float64\n",
      " 20  Dens-med   1108 non-null   float64\n",
      " 21  Dens-min   1108 non-null   float64\n",
      " 22  Dens-max   1108 non-null   float64\n",
      " 23  Speed-med  1108 non-null   float64\n",
      " 24  Speed-min  1108 non-null   float64\n",
      " 25  Speed-max  1108 non-null   float64\n",
      " 26  Temp-med   1108 non-null   int64  \n",
      " 27  Temp-min   1108 non-null   int64  \n",
      " 28  Temp-max   1108 non-null   int64  \n",
      " 29  Kp         1108 non-null   float64\n",
      "dtypes: float64(25), int64(4), object(1)\n",
      "memory usage: 259.8+ KB\n",
      "None\n"
     ]
    }
   ],
   "source": [
    "print(df.info())"
   ]
  },
  {
   "cell_type": "code",
   "execution_count": 5,
   "metadata": {},
   "outputs": [
    {
     "name": "stdout",
     "output_type": "stream",
     "text": [
      "            Source        Bt-med        Bt-min        Bt-max        Bx-med  \\\n",
      "count  1108.000000   1108.000000   1108.000000   1108.000000   1108.000000   \n",
      "mean      0.998195   -173.829350   -175.541977   -172.457879   -180.260866   \n",
      "std       0.060084   4246.916048   4246.842839   4246.975038   4246.642889   \n",
      "min      -1.000000 -99999.000000 -99999.000000 -99999.000000 -99999.000000   \n",
      "25%       1.000000      4.980000      3.645000      5.780000     -2.805000   \n",
      "50%       1.000000      5.940000      4.690000      6.995000      0.740000   \n",
      "75%       1.000000      7.492500      5.840000      9.142500      3.182500   \n",
      "max       1.000000     32.440000     28.460000     33.990000     10.920000   \n",
      "\n",
      "             Bx-min        Bx-max        By-med        By-min        By-max  \\\n",
      "count   1108.000000   1108.000000   1108.000000   1108.000000   1108.000000   \n",
      "mean    -184.039675   -176.684233   -180.786173   -184.882987   -176.389305   \n",
      "std     4246.481880   4246.794863   4246.621208   4246.446584   4246.807973   \n",
      "min   -99999.000000 -99999.000000 -99999.000000 -99999.000000 -99999.000000   \n",
      "25%       -5.682500      1.840000     -3.180000     -6.212500      1.707500   \n",
      "50%       -3.755000      4.160000     -0.910000     -4.470000      4.165000   \n",
      "75%       -1.247500      5.730000      2.830000     -2.177500      5.945000   \n",
      "max        4.560000     28.070000     23.400000     15.190000     28.870000   \n",
      "\n",
      "       ...      Dens-med      Dens-min      Dens-max     Speed-med  \\\n",
      "count  ...   1108.000000   1108.000000   1108.000000   1108.000000   \n",
      "mean   ...   -173.824368   -176.856733   -169.576796    265.974278   \n",
      "std    ...   4246.916989   4246.787163   4247.101295   4266.182906   \n",
      "min    ... -99999.000000 -99999.000000 -99999.000000 -99999.000000   \n",
      "25%    ...      3.807500      1.130000      6.550000    400.000000   \n",
      "50%    ...      6.070000      3.220000      9.610000    446.600000   \n",
      "75%    ...      9.180000      5.430000     13.102500    494.525000   \n",
      "max    ...     29.790000     16.380000     71.160000    660.500000   \n",
      "\n",
      "          Speed-min     Speed-max      Temp-med       Temp-min      Temp-max  \\\n",
      "count   1108.000000   1108.000000  1.108000e+03    1108.000000  1.108000e+03   \n",
      "mean     235.027076    300.955054  1.622780e+05   69297.582130  3.380935e+05   \n",
      "std     4264.792553   4267.743731  1.496670e+05   78414.146887  2.668830e+05   \n",
      "min   -99999.000000 -99999.000000 -9.999900e+04  -99999.000000 -9.999900e+04   \n",
      "25%      375.800000    429.925000  5.826825e+04   11251.750000  1.545115e+05   \n",
      "50%      415.800000    480.000000  1.206725e+05   46096.000000  2.770000e+05   \n",
      "75%      467.050000    528.550000  2.240372e+05  103690.500000  4.484000e+05   \n",
      "max      621.000000    704.500000  1.308885e+06  599020.000000  2.391534e+06   \n",
      "\n",
      "               Kp  \n",
      "count  1108.00000  \n",
      "mean      2.03068  \n",
      "std       1.26729  \n",
      "min       0.00000  \n",
      "25%       1.00000  \n",
      "50%       2.00000  \n",
      "75%       2.66700  \n",
      "max       8.33300  \n",
      "\n",
      "[8 rows x 29 columns]\n"
     ]
    }
   ],
   "source": [
    "print(df1.describe())"
   ]
  },
  {
   "cell_type": "code",
   "execution_count": 6,
   "metadata": {},
   "outputs": [
    {
     "name": "stdout",
     "output_type": "stream",
     "text": [
      "Source      -0.007173\n",
      "Bt-med      -0.004234\n",
      "Bt-min      -0.004403\n",
      "Bt-max      -0.004116\n",
      "Bx-med      -0.004494\n",
      "Bx-min      -0.004747\n",
      "Bx-max      -0.004315\n",
      "By-med      -0.004663\n",
      "By-min      -0.004894\n",
      "By-max      -0.004341\n",
      "Bz-med      -0.004822\n",
      "Bz-min      -0.005019\n",
      "Bz-max      -0.004407\n",
      "Phi-mean    -0.002292\n",
      "Phi-min     -0.007209\n",
      "Phi-max     -0.002063\n",
      "Theta-med   -0.006445\n",
      "Theta-min   -0.006769\n",
      "Theta-max   -0.004858\n",
      "Dens-med    -0.004262\n",
      "Dens-min    -0.004460\n",
      "Dens-max    -0.003942\n",
      "Speed-med    0.000860\n",
      "Speed-min    0.000172\n",
      "Speed-max    0.001234\n",
      "Temp-med     0.060189\n",
      "Temp-min    -0.017895\n",
      "Temp-max     0.069590\n",
      "Kp           1.000000\n",
      "Name: Kp, dtype: float64\n"
     ]
    }
   ],
   "source": [
    "print(df1.iloc[:, 1:].corr()['Kp'])"
   ]
  },
  {
   "cell_type": "markdown",
   "metadata": {},
   "source": [
    "#### X and Y"
   ]
  },
  {
   "cell_type": "code",
   "execution_count": 7,
   "metadata": {},
   "outputs": [],
   "source": [
    "x = df1.iloc[:, 1:-1]\n",
    "y = df1.iloc[:, -1]\n",
    "\n",
    "x_train, x_test, y_train, y_test = train_test_split(x, y, test_size = 0.3, random_state = 0)"
   ]
  },
  {
   "cell_type": "code",
   "execution_count": 15,
   "metadata": {},
   "outputs": [],
   "source": [
    "x.to_csv('../Code_only/train-tests/x.csv', index = False)\n",
    "y.to_csv('../Code_only/train-tests/y.csv', index = False)"
   ]
  },
  {
   "cell_type": "markdown",
   "metadata": {},
   "source": [
    "#### Model definition"
   ]
  },
  {
   "cell_type": "markdown",
   "metadata": {},
   "source": [
    "Multiple Linear Regression"
   ]
  },
  {
   "cell_type": "code",
   "execution_count": 27,
   "metadata": {},
   "outputs": [
    {
     "name": "stdout",
     "output_type": "stream",
     "text": [
      "1050    2.333\n",
      "982     3.333\n",
      "766     2.000\n",
      "491     0.667\n",
      "457     0.333\n",
      "        ...  \n",
      "841     1.333\n",
      "95      0.667\n",
      "113     2.000\n",
      "725     0.667\n",
      "37      0.667\n",
      "Name: Kp, Length: 333, dtype: float64\n",
      "Mean Absolute Error (MAE): 0.6790486276752579\n",
      "Mean Squared Error (MSE): 0.7640443306957228\n",
      "Root Mean Squared Error (RMSE): 0.8740962937203902\n",
      "R-squared (R2) Score: 0.5195210365442081\n"
     ]
    }
   ],
   "source": [
    "from sklearn.metrics import mean_absolute_error, mean_squared_error, r2_score\n",
    "\n",
    "multi = LinearRegression().fit(x_train, y_train)\n",
    "y_pred = multi.predict(x_test)\n",
    "predicted = y_pred.reshape(len(y_pred),1)\n",
    "\n",
    "print(y_test)\n",
    "y_pred = [item for sublist in predicted for item in sublist]\n",
    "\n",
    "# Calculate Mean Absolute Error (MAE)\n",
    "mae = mean_absolute_error(y_test, y_pred)\n",
    "\n",
    "# Calculate Mean Squared Error (MSE)\n",
    "mse = mean_squared_error(y_test, y_pred)\n",
    "\n",
    "# Calculate Root Mean Squared Error (RMSE)\n",
    "rmse = np.sqrt(mse)\n",
    "\n",
    "# Calculate R-squared (R2) score\n",
    "r2 = r2_score(y_test, y_pred)\n",
    "\n",
    "print(f\"Mean Absolute Error (MAE): {mae}\")\n",
    "print(f\"Mean Squared Error (MSE): {mse}\")\n",
    "print(f\"Root Mean Squared Error (RMSE): {rmse}\")\n",
    "print(f\"R-squared (R2) Score: {r2}\")"
   ]
  },
  {
   "cell_type": "markdown",
   "metadata": {},
   "source": [
    "Polynomial Regression"
   ]
  },
  {
   "cell_type": "code",
   "execution_count": 37,
   "metadata": {},
   "outputs": [
    {
     "name": "stdout",
     "output_type": "stream",
     "text": [
      "Mean Absolute Error (MAE): 8.442562673452013\n",
      "Mean Squared Error (MSE): 744.1389348409579\n",
      "Root Mean Squared Error (RMSE): 27.27891007428555\n",
      "R-squared (R2) Score: -466.96120292380056\n"
     ]
    }
   ],
   "source": [
    "from sklearn.preprocessing import PolynomialFeatures\n",
    "\n",
    "poly = PolynomialFeatures(degree=3)\n",
    "x_poly = poly.fit_transform(x_train)\n",
    "reg = LinearRegression().fit(x_poly, y_train)\n",
    "\n",
    "y_pred = reg.predict(poly.fit_transform(x_test))\n",
    "predicted = y_pred.reshape(len(y_pred),1)\n",
    "\n",
    "y_pred = [item for sublist in predicted for item in sublist]\n",
    "\n",
    "# Calculate Mean Absolute Error (MAE)\n",
    "mae = mean_absolute_error(y_test, y_pred)\n",
    "\n",
    "# Calculate Mean Squared Error (MSE)\n",
    "mse = mean_squared_error(y_test, y_pred)\n",
    "\n",
    "# Calculate Root Mean Squared Error (RMSE)\n",
    "rmse = np.sqrt(mse)\n",
    "\n",
    "# Calculate R-squared (R2) score\n",
    "r2 = r2_score(y_test, y_pred)\n",
    "\n",
    "print(f\"Mean Absolute Error (MAE): {mae}\")\n",
    "print(f\"Mean Squared Error (MSE): {mse}\")\n",
    "print(f\"Root Mean Squared Error (RMSE): {rmse}\")\n",
    "print(f\"R-squared (R2) Score: {r2}\")\n"
   ]
  },
  {
   "cell_type": "markdown",
   "metadata": {},
   "source": [
    "Decision Tree Regression"
   ]
  },
  {
   "cell_type": "code",
   "execution_count": 38,
   "metadata": {},
   "outputs": [
    {
     "name": "stdout",
     "output_type": "stream",
     "text": [
      "Mean Absolute Error (MAE): 0.9559879879879881\n",
      "Mean Squared Error (MSE): 1.5292567387387386\n",
      "Root Mean Squared Error (RMSE): 1.2366312056303361\n",
      "R-squared (R2) Score: 0.03830751284038392\n"
     ]
    }
   ],
   "source": [
    "from sklearn.tree import DecisionTreeRegressor\n",
    "regressor = DecisionTreeRegressor(random_state = 0)\n",
    "regressor.fit(x_train, y_train)\n",
    "\n",
    "y_pred = regressor.predict(x_test)\n",
    "predicted = y_pred.reshape(len(y_pred),1)\n",
    "\n",
    "y_pred = [item for sublist in predicted for item in sublist]\n",
    "\n",
    "# Calculate Mean Absolute Error (MAE)\n",
    "mae = mean_absolute_error(y_test, y_pred)\n",
    "\n",
    "# Calculate Mean Squared Error (MSE)\n",
    "mse = mean_squared_error(y_test, y_pred)\n",
    "\n",
    "# Calculate Root Mean Squared Error (RMSE)\n",
    "rmse = np.sqrt(mse)\n",
    "\n",
    "# Calculate R-squared (R2) score\n",
    "r2 = r2_score(y_test, y_pred)\n",
    "\n",
    "print(f\"Mean Absolute Error (MAE): {mae}\")\n",
    "print(f\"Mean Squared Error (MSE): {mse}\")\n",
    "print(f\"Root Mean Squared Error (RMSE): {rmse}\")\n",
    "print(f\"R-squared (R2) Score: {r2}\")\n"
   ]
  },
  {
   "cell_type": "markdown",
   "metadata": {},
   "source": [
    "Random Forest Regression"
   ]
  },
  {
   "cell_type": "code",
   "execution_count": 40,
   "metadata": {},
   "outputs": [
    {
     "name": "stdout",
     "output_type": "stream",
     "text": [
      "Mean Absolute Error (MAE): 0.7335405405405405\n",
      "Mean Squared Error (MSE): 0.8653285311861862\n",
      "Root Mean Squared Error (RMSE): 0.9302303645797563\n",
      "R-squared (R2) Score: 0.4558271830451668\n"
     ]
    }
   ],
   "source": [
    "from sklearn.ensemble import RandomForestRegressor\n",
    "regressor = RandomForestRegressor(n_estimators = 20, random_state = 0)\n",
    "regressor.fit(x_train, y_train)\n",
    "\n",
    "y_pred = regressor.predict(x_test)\n",
    "predicted = y_pred.reshape(len(y_pred),1)\n",
    "\n",
    "y_pred = [item for sublist in predicted for item in sublist]\n",
    "\n",
    "# Calculate Mean Absolute Error (MAE)\n",
    "mae = mean_absolute_error(y_test, y_pred)\n",
    "\n",
    "# Calculate Mean Squared Error (MSE)\n",
    "mse = mean_squared_error(y_test, y_pred)\n",
    "\n",
    "# Calculate Root Mean Squared Error (RMSE)\n",
    "rmse = np.sqrt(mse)\n",
    "\n",
    "# Calculate R-squared (R2) score\n",
    "r2 = r2_score(y_test, y_pred)\n",
    "\n",
    "print(f\"Mean Absolute Error (MAE): {mae}\")\n",
    "print(f\"Mean Squared Error (MSE): {mse}\")\n",
    "print(f\"Root Mean Squared Error (RMSE): {rmse}\")\n",
    "print(f\"R-squared (R2) Score: {r2}\")\n"
   ]
  },
  {
   "cell_type": "code",
   "execution_count": null,
   "metadata": {},
   "outputs": [],
   "source": [
    "# SVM\n",
    "# ARIMA model (NN)\n",
    "# LSTM\n",
    "# Multivariate LSTM (link on slack)\n",
    "# Multistep LSTM (link sent in slack)\n",
    "# GRU model (Gated Recurrent Unit)\n",
    "# Attention Mechanism\n",
    "# Vanilla LSTM\n",
    "\n",
    "# Ananya's research papers also included Deep GPR (Gaussian Process Regression)"
   ]
  },
  {
   "cell_type": "code",
   "execution_count": null,
   "metadata": {},
   "outputs": [],
   "source": [
    "import datetime\n",
    "log_file_path = '../Logs/models_log.txt'\n",
    "def log_output_to_file(output_text, log_file_path):\n",
    "    timestamp = datetime.datetime.now().strftime('%Y-%m-%d %H:%M:%S')\n",
    "    divider = '-' * 40  # Line divider\n",
    "    \n",
    "    with open(log_file_path, 'a') as log_file:\n",
    "        log_file.write(f'{timestamp}\\n')\n",
    "        log_file.write(divider + '\\n')\n",
    "        log_file.write(output_text)\n",
    "        log_file.write('\\n\\n')\n"
   ]
  }
 ],
 "metadata": {
  "kernelspec": {
   "display_name": "SpaceApps",
   "language": "python",
   "name": "python3"
  },
  "language_info": {
   "codemirror_mode": {
    "name": "ipython",
    "version": 3
   },
   "file_extension": ".py",
   "mimetype": "text/x-python",
   "name": "python",
   "nbconvert_exporter": "python",
   "pygments_lexer": "ipython3",
   "version": "3.10.12"
  }
 },
 "nbformat": 4,
 "nbformat_minor": 2
}
