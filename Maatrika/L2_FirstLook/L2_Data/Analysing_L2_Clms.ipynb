{
 "cells": [
  {
   "cell_type": "code",
   "execution_count": 2,
   "metadata": {},
   "outputs": [
    {
     "name": "stderr",
     "output_type": "stream",
     "text": [
      "Summarize dataset: 100%|██████████| 823/823 [01:04<00:00, 12.73it/s, Completed]                   \n",
      "Generate report structure: 100%|██████████| 1/1 [00:04<00:00,  4.73s/it]\n",
      "Render HTML: 100%|██████████| 1/1 [00:15<00:00, 15.73s/it]\n",
      "Export report to file: 100%|██████████| 1/1 [00:00<00:00, 11.54it/s]"
     ]
    },
    {
     "name": "stdout",
     "output_type": "stream",
     "text": [
      "Data profiling report saved to test_report.html\n"
     ]
    },
    {
     "name": "stderr",
     "output_type": "stream",
     "text": [
      "\n"
     ]
    }
   ],
   "source": [
    "import pandas as pd\n",
    "from pandas_profiling import ProfileReport\n",
    "\n",
    "\n",
    "csv_file = \"Merged_Dataset.csv\"  \n",
    "df = pd.read_csv(csv_file)\n",
    "\n",
    "profile = ProfileReport(df, title=\"Data Profiling Report\", explorative=True)\n",
    "\n",
    "report_file = \"test_report.html\"  \n",
    "profile.to_file(report_file)\n",
    "\n",
    "print(f\"Data profiling report saved to {report_file}\")"
   ]
  },
  {
   "cell_type": "code",
   "execution_count": 7,
   "metadata": {},
   "outputs": [],
   "source": [
    "import pandas as pd\n",
    "from pandas_profiling import ProfileReport\n",
    "\n",
    "csv_file = \"Merged_Dataset.csv\"  \n",
    "df = pd.read_csv(csv_file)"
   ]
  },
  {
   "cell_type": "code",
   "execution_count": 8,
   "metadata": {},
   "outputs": [],
   "source": [
    "status_corr = corr_matrix = df.corr()"
   ]
  },
  {
   "cell_type": "code",
   "execution_count": 9,
   "metadata": {},
   "outputs": [
    {
     "data": {
      "text/plain": [
       "Source            NaN\n",
       "Bt-med       0.461541\n",
       "Bt-min       0.262964\n",
       "Bt-max       0.509892\n",
       "Bx-med       0.115556\n",
       "Bx-min      -0.246782\n",
       "Bx-max       0.379723\n",
       "By-med      -0.190418\n",
       "By-min      -0.438852\n",
       "By-max       0.175310\n",
       "Bz-med      -0.307702\n",
       "Bz-min      -0.553441\n",
       "Bz-max       0.284001\n",
       "Phi-mean     0.099127\n",
       "Phi-min     -0.112884\n",
       "Phi-max      0.212058\n",
       "Theta-med   -0.306134\n",
       "Theta-min   -0.377338\n",
       "Theta-max   -0.001676\n",
       "Dens-med     0.368672\n",
       "Dens-min     0.181290\n",
       "Dens-max     0.434421\n",
       "Speed-med    0.376575\n",
       "Speed-min    0.323192\n",
       "Speed-max    0.390018\n",
       "Temp-med     0.115353\n",
       "Temp-min     0.001915\n",
       "Temp-max     0.174605\n",
       "Kp           1.000000\n",
       "Name: Kp, dtype: float64"
      ]
     },
     "execution_count": 9,
     "metadata": {},
     "output_type": "execute_result"
    }
   ],
   "source": [
    "corr_matrix['Kp']"
   ]
  },
  {
   "cell_type": "code",
   "execution_count": 10,
   "metadata": {},
   "outputs": [],
   "source": [
    "df1 = df.copy()"
   ]
  },
  {
   "cell_type": "code",
   "execution_count": 11,
   "metadata": {},
   "outputs": [],
   "source": [
    "df1.drop(columns=['Timestamp', 'Temp-max'], inplace=True)"
   ]
  },
  {
   "cell_type": "code",
   "execution_count": 12,
   "metadata": {},
   "outputs": [
    {
     "data": {
      "text/plain": [
       "Index(['Source', 'Bt-med', 'Bt-min', 'Bt-max', 'Bx-med', 'Bx-min', 'Bx-max',\n",
       "       'By-med', 'By-min', 'By-max', 'Bz-med', 'Bz-min', 'Bz-max', 'Phi-mean',\n",
       "       'Phi-min', 'Phi-max', 'Theta-med', 'Theta-min', 'Theta-max', 'Dens-med',\n",
       "       'Dens-min', 'Dens-max', 'Speed-med', 'Speed-min', 'Speed-max',\n",
       "       'Temp-med', 'Temp-min', 'Kp'],\n",
       "      dtype='object')"
      ]
     },
     "execution_count": 12,
     "metadata": {},
     "output_type": "execute_result"
    }
   ],
   "source": [
    "df1.columns"
   ]
  },
  {
   "cell_type": "code",
   "execution_count": 13,
   "metadata": {},
   "outputs": [],
   "source": [
    "status_corr = corr_matrix = df1.corr()"
   ]
  },
  {
   "cell_type": "code",
   "execution_count": 14,
   "metadata": {},
   "outputs": [
    {
     "data": {
      "text/plain": [
       "Source            NaN\n",
       "Bt-med       0.461541\n",
       "Bt-min       0.262964\n",
       "Bt-max       0.509892\n",
       "Bx-med       0.115556\n",
       "Bx-min      -0.246782\n",
       "Bx-max       0.379723\n",
       "By-med      -0.190418\n",
       "By-min      -0.438852\n",
       "By-max       0.175310\n",
       "Bz-med      -0.307702\n",
       "Bz-min      -0.553441\n",
       "Bz-max       0.284001\n",
       "Phi-mean     0.099127\n",
       "Phi-min     -0.112884\n",
       "Phi-max      0.212058\n",
       "Theta-med   -0.306134\n",
       "Theta-min   -0.377338\n",
       "Theta-max   -0.001676\n",
       "Dens-med     0.368672\n",
       "Dens-min     0.181290\n",
       "Dens-max     0.434421\n",
       "Speed-med    0.376575\n",
       "Speed-min    0.323192\n",
       "Speed-max    0.390018\n",
       "Temp-med     0.115353\n",
       "Temp-min     0.001915\n",
       "Kp           1.000000\n",
       "Name: Kp, dtype: float64"
      ]
     },
     "execution_count": 14,
     "metadata": {},
     "output_type": "execute_result"
    }
   ],
   "source": [
    "corr_matrix['Kp']"
   ]
  },
  {
   "cell_type": "code",
   "execution_count": 15,
   "metadata": {},
   "outputs": [],
   "source": [
    "def feature_selector_correlation(cmatrix, threshold):\n",
    "    selected_features = []\n",
    "    feature_score = []\n",
    "    \n",
    "    #kick the non-numeric columns\n",
    "    numeric_columns = cmatrix.select_dtypes(include=['int64', 'float64'])\n",
    "    \n",
    "    for column_name in numeric_columns.columns:\n",
    "        score = cmatrix[column_name].corr(cmatrix['Kp']) # correlation with Kp\n",
    "        if abs(score) > threshold:\n",
    "            selected_features.append(column_name)\n",
    "            feature_score.append(['{:3f}'.format(score)])\n",
    "    \n",
    "    result = list(zip(selected_features, feature_score))\n",
    "    return result"
   ]
  },
  {
   "cell_type": "code",
   "execution_count": 16,
   "metadata": {},
   "outputs": [
    {
     "data": {
      "text/plain": [
       "[('Bt-med', ['0.701943']),\n",
       " ('Bt-min', ['0.518566']),\n",
       " ('Bt-max', ['0.745582']),\n",
       " ('Bx-max', ['0.684974']),\n",
       " ('By-min', ['-0.724851']),\n",
       " ('Bz-med', ['-0.659087']),\n",
       " ('Bz-min', ['-0.916825']),\n",
       " ('Theta-med', ['-0.609186']),\n",
       " ('Theta-min', ['-0.753477']),\n",
       " ('Dens-med', ['0.623593']),\n",
       " ('Dens-max', ['0.743995']),\n",
       " ('Speed-max', ['0.539387']),\n",
       " ('Kp', ['1.000000'])]"
      ]
     },
     "execution_count": 16,
     "metadata": {},
     "output_type": "execute_result"
    }
   ],
   "source": [
    "features_selected = feature_selector_correlation(status_corr, 0.5)\n",
    "features_selected"
   ]
  },
  {
   "cell_type": "code",
   "execution_count": 17,
   "metadata": {},
   "outputs": [
    {
     "name": "stdout",
     "output_type": "stream",
     "text": [
      "<class 'pandas.core.frame.DataFrame'>\n",
      "RangeIndex: 748 entries, 0 to 747\n",
      "Data columns (total 28 columns):\n",
      " #   Column     Non-Null Count  Dtype  \n",
      "---  ------     --------------  -----  \n",
      " 0   Source     748 non-null    int64  \n",
      " 1   Bt-med     748 non-null    float64\n",
      " 2   Bt-min     748 non-null    float64\n",
      " 3   Bt-max     748 non-null    float64\n",
      " 4   Bx-med     748 non-null    float64\n",
      " 5   Bx-min     748 non-null    float64\n",
      " 6   Bx-max     748 non-null    float64\n",
      " 7   By-med     748 non-null    float64\n",
      " 8   By-min     748 non-null    float64\n",
      " 9   By-max     748 non-null    float64\n",
      " 10  Bz-med     748 non-null    float64\n",
      " 11  Bz-min     748 non-null    float64\n",
      " 12  Bz-max     748 non-null    float64\n",
      " 13  Phi-mean   748 non-null    float64\n",
      " 14  Phi-min    748 non-null    float64\n",
      " 15  Phi-max    748 non-null    float64\n",
      " 16  Theta-med  748 non-null    float64\n",
      " 17  Theta-min  748 non-null    float64\n",
      " 18  Theta-max  748 non-null    float64\n",
      " 19  Dens-med   748 non-null    float64\n",
      " 20  Dens-min   748 non-null    float64\n",
      " 21  Dens-max   748 non-null    float64\n",
      " 22  Speed-med  748 non-null    float64\n",
      " 23  Speed-min  748 non-null    float64\n",
      " 24  Speed-max  748 non-null    float64\n",
      " 25  Temp-med   748 non-null    int64  \n",
      " 26  Temp-min   748 non-null    int64  \n",
      " 27  Kp         748 non-null    float64\n",
      "dtypes: float64(25), int64(3)\n",
      "memory usage: 163.8 KB\n"
     ]
    }
   ],
   "source": [
    "df1.info()\n"
   ]
  },
  {
   "cell_type": "code",
   "execution_count": 18,
   "metadata": {},
   "outputs": [],
   "source": [
    "csv_file = \"Merged_Dataset.csv\"  \n",
    "df = pd.read_csv(csv_file)"
   ]
  },
  {
   "cell_type": "code",
   "execution_count": 19,
   "metadata": {},
   "outputs": [],
   "source": [
    "selected_columns = [\n",
    "    'Timestamp', 'Bt-med', 'Bt-min', 'Bt-max', 'Bx-max', 'By-min', 'Bz-med',\n",
    "    'Bz-min', 'Theta-med', 'Theta-min', 'Dens-med', 'Dens-max',\n",
    "    'Speed-max', 'Kp' \n",
    "]\n",
    "\n",
    "selected_df = df[selected_columns]\n"
   ]
  },
  {
   "cell_type": "code",
   "execution_count": 20,
   "metadata": {},
   "outputs": [],
   "source": [
    "selected_df.to_csv(\"fianl_cleaned.csv\")"
   ]
  },
  {
   "cell_type": "code",
   "execution_count": 49,
   "metadata": {},
   "outputs": [
    {
     "data": {
      "text/plain": [
       "(748, 30)"
      ]
     },
     "execution_count": 49,
     "metadata": {},
     "output_type": "execute_result"
    }
   ],
   "source": [
    "df.shape"
   ]
  },
  {
   "cell_type": "code",
   "execution_count": 58,
   "metadata": {},
   "outputs": [
    {
     "name": "stderr",
     "output_type": "stream",
     "text": [
      "/tmp/ipykernel_16150/2759198848.py:8: FutureWarning: casting datetime64[ns] values to int64 with .astype(...) is deprecated and will raise in a future version. Use .view(...) instead.\n",
      "  selected_df['Timestamp'] = selected_df['Timestamp'].astype(int) / 10**9  # Convert nanoseconds to seconds\n"
     ]
    }
   ],
   "source": [
    "# Create a copy of the selected DataFrame to avoid warnings\n",
    "selected_df = df[['Timestamp', 'Bt-med', 'Bt-min', 'Bt-max', 'Bx-max', 'By-min', 'Bz-med', 'Bz-min', 'Theta-med', 'Theta-min', 'Dens-med', 'Dens-max', 'Speed-max', 'Kp']].copy()\n",
    "\n",
    "# Convert 'Timestamp' column to datetime\n",
    "selected_df['Timestamp'] = pd.to_datetime(selected_df['Timestamp'], format='%d-%m-%Y %H:%M')\n",
    "\n",
    "# Convert datetime to Unix timestamps (float)\n",
    "selected_df['Timestamp'] = selected_df['Timestamp'].astype(int) / 10**9  # Convert nanoseconds to seconds\n"
   ]
  },
  {
   "cell_type": "code",
   "execution_count": 59,
   "metadata": {},
   "outputs": [
    {
     "name": "stdout",
     "output_type": "stream",
     "text": [
      "<class 'pandas.core.frame.DataFrame'>\n",
      "RangeIndex: 748 entries, 0 to 747\n",
      "Data columns (total 14 columns):\n",
      " #   Column     Non-Null Count  Dtype  \n",
      "---  ------     --------------  -----  \n",
      " 0   Timestamp  748 non-null    float64\n",
      " 1   Bt-med     748 non-null    float64\n",
      " 2   Bt-min     748 non-null    float64\n",
      " 3   Bt-max     748 non-null    float64\n",
      " 4   Bx-max     748 non-null    float64\n",
      " 5   By-min     748 non-null    float64\n",
      " 6   Bz-med     748 non-null    float64\n",
      " 7   Bz-min     748 non-null    float64\n",
      " 8   Theta-med  748 non-null    float64\n",
      " 9   Theta-min  748 non-null    float64\n",
      " 10  Dens-med   748 non-null    float64\n",
      " 11  Dens-max   748 non-null    float64\n",
      " 12  Speed-max  748 non-null    float64\n",
      " 13  Kp         748 non-null    float64\n",
      "dtypes: float64(14)\n",
      "memory usage: 81.9 KB\n"
     ]
    }
   ],
   "source": [
    "selected_df.info()"
   ]
  }
 ],
 "metadata": {
  "kernelspec": {
   "display_name": "nasa",
   "language": "python",
   "name": "python3"
  },
  "language_info": {
   "codemirror_mode": {
    "name": "ipython",
    "version": 3
   },
   "file_extension": ".py",
   "mimetype": "text/x-python",
   "name": "python",
   "nbconvert_exporter": "python",
   "pygments_lexer": "ipython3",
   "version": "3.10.12"
  }
 },
 "nbformat": 4,
 "nbformat_minor": 2
}
