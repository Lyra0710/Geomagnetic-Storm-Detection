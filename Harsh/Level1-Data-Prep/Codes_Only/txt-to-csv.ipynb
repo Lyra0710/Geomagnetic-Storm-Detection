{
 "cells": [
  {
   "cell_type": "code",
   "execution_count": 6,
   "metadata": {},
   "outputs": [],
   "source": [
    "import pandas as pd"
   ]
  },
  {
   "cell_type": "code",
   "execution_count": 7,
   "metadata": {},
   "outputs": [
    {
     "name": "stdout",
     "output_type": "stream",
     "text": [
      "['\\ufeffTimestamp           Source    Bt-med    Bt-min    Bt-max    Bx-med    Bx-min    Bx-max    By-med    By-min    By-max    Bz-med    Bz-min    Bz-max  Phi-mean   Phi-min   Phi-max Theta-med Theta-min Theta-max  Dens-med  Dens-min  Dens-max Speed-med Speed-min Speed-max  Temp-med  Temp-min  Temp-max', '2023-09-29 00:00:00      1      7.41      7.38      7.45     -0.87     -1.06     -0.22      7.22      7.20      7.26     -1.41     -1.55     -1.30     96.00     91.76     98.37    -10.95    -12.14    -10.08      3.51      3.40      5.55    437.80    437.70    439.10    166277    146606    190525', '2023-09-29 00:05:00      1      7.40      7.34      7.41     -0.95     -1.47     -0.76      7.21      6.90      7.23     -1.41     -2.36     -1.23     98.10     96.31    101.76    -11.01    -18.74     -9.62      3.54      3.41      5.59    437.50    435.60    439.80    172845    163295    254739', '2023-09-29 00:10:00      1      7.35      7.28      7.45     -0.42     -0.49     -0.17      7.02      6.66      7.34     -2.09     -2.94     -1.21     92.91     91.29     94.01    -16.55    -23.80     -9.33      3.40      3.19      3.61    437.70    436.90    441.40    150667    146474    167399', '2023-09-29 00:15:00      1      7.32      7.29      7.36     -0.88     -1.19     -0.22      6.99      6.95      7.24     -2.11     -2.12     -0.43     95.28     91.84     99.32    -16.82    -16.86     -3.38      3.46      3.35      6.62    439.00    436.70    443.00    157895    148790    291617']\n"
     ]
    }
   ],
   "source": [
    "# Read txt file line by line and store to a list\n",
    "with open('../Dataset/Real_Time_KP_Data', 'r') as f:\n",
    "    lines = f.readlines()\n",
    "    lines = [line.strip() for line in lines]\n",
    "\n",
    "print(lines[0:5])"
   ]
  },
  {
   "cell_type": "code",
   "execution_count": 8,
   "metadata": {},
   "outputs": [],
   "source": [
    "import re\n",
    "\n",
    "def compress_whitespace(input_string):\n",
    "    # Use a regular expression to replace multiple whitespaces with a single space\n",
    "    compressed_string = re.sub(r'\\s+', ' ', input_string)\n",
    "    return compressed_string\n",
    "\n",
    "# Example usage:\n",
    "fixed = []\n",
    "for i in lines:\n",
    "    fixed.append(compress_whitespace(i))\n"
   ]
  },
  {
   "cell_type": "code",
   "execution_count": 9,
   "metadata": {},
   "outputs": [
    {
     "name": "stdout",
     "output_type": "stream",
     "text": [
      "['\\ufeffTimestamp Source Bt-med Bt-min Bt-max Bx-med Bx-min Bx-max By-med By-min By-max Bz-med Bz-min Bz-max Phi-mean Phi-min Phi-max Theta-med Theta-min Theta-max Dens-med Dens-min Dens-max Speed-med Speed-min Speed-max Temp-med Temp-min Temp-max', '2023-09-29 00:00:00 1 7.41 7.38 7.45 -0.87 -1.06 -0.22 7.22 7.20 7.26 -1.41 -1.55 -1.30 96.00 91.76 98.37 -10.95 -12.14 -10.08 3.51 3.40 5.55 437.80 437.70 439.10 166277 146606 190525', '2023-09-29 00:05:00 1 7.40 7.34 7.41 -0.95 -1.47 -0.76 7.21 6.90 7.23 -1.41 -2.36 -1.23 98.10 96.31 101.76 -11.01 -18.74 -9.62 3.54 3.41 5.59 437.50 435.60 439.80 172845 163295 254739', '2023-09-29 00:10:00 1 7.35 7.28 7.45 -0.42 -0.49 -0.17 7.02 6.66 7.34 -2.09 -2.94 -1.21 92.91 91.29 94.01 -16.55 -23.80 -9.33 3.40 3.19 3.61 437.70 436.90 441.40 150667 146474 167399', '2023-09-29 00:15:00 1 7.32 7.29 7.36 -0.88 -1.19 -0.22 6.99 6.95 7.24 -2.11 -2.12 -0.43 95.28 91.84 99.32 -16.82 -16.86 -3.38 3.46 3.35 6.62 439.00 436.70 443.00 157895 148790 291617']\n"
     ]
    }
   ],
   "source": [
    "print(fixed[0:5])"
   ]
  },
  {
   "cell_type": "code",
   "execution_count": 10,
   "metadata": {},
   "outputs": [
    {
     "name": "stdout",
     "output_type": "stream",
     "text": [
      "Data has been written to data.csv\n"
     ]
    }
   ],
   "source": [
    "import csv\n",
    "\n",
    "\n",
    "# Define the CSV file name\n",
    "csv_file_name = 'data.csv'\n",
    "\n",
    "# Split the headers and entries\n",
    "headers = fixed[0].split()\n",
    "entries = [entry.split() for entry in fixed[1:]]\n",
    "\n",
    "# Write data to the CSV file\n",
    "with open(csv_file_name, 'w', newline='') as csv_file:\n",
    "    csv_writer = csv.writer(csv_file)\n",
    "    \n",
    "    # Write the headers\n",
    "    csv_writer.writerow(headers)\n",
    "    \n",
    "    # Write the entries\n",
    "    csv_writer.writerows(entries)\n",
    "\n",
    "print(f'Data has been written to {csv_file_name}')\n"
   ]
  },
  {
   "cell_type": "code",
   "execution_count": null,
   "metadata": {},
   "outputs": [],
   "source": []
  }
 ],
 "metadata": {
  "kernelspec": {
   "display_name": "SpaceApps",
   "language": "python",
   "name": "python3"
  },
  "language_info": {
   "codemirror_mode": {
    "name": "ipython",
    "version": 3
   },
   "file_extension": ".py",
   "mimetype": "text/x-python",
   "name": "python",
   "nbconvert_exporter": "python",
   "pygments_lexer": "ipython3",
   "version": "3.10.13"
  }
 },
 "nbformat": 4,
 "nbformat_minor": 2
}
