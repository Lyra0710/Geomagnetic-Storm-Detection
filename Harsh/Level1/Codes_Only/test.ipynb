{
 "cells": [
  {
   "cell_type": "code",
   "execution_count": 1,
   "metadata": {},
   "outputs": [],
   "source": [
    "import pandas as pd"
   ]
  },
  {
   "cell_type": "code",
   "execution_count": 2,
   "metadata": {},
   "outputs": [],
   "source": [
    "df = pd.read_csv(\"../Level1-mg-CSV/oe_mg1_dscovr_s20231004000000_e20231004235959_p20231005013851_pub.csv\", engine=\"pyarrow\")"
   ]
  },
  {
   "cell_type": "code",
   "execution_count": 3,
   "metadata": {},
   "outputs": [
    {
     "data": {
      "text/html": [
       "<div>\n",
       "<style scoped>\n",
       "    .dataframe tbody tr th:only-of-type {\n",
       "        vertical-align: middle;\n",
       "    }\n",
       "\n",
       "    .dataframe tbody tr th {\n",
       "        vertical-align: top;\n",
       "    }\n",
       "\n",
       "    .dataframe thead th {\n",
       "        text-align: right;\n",
       "    }\n",
       "</style>\n",
       "<table border=\"1\" class=\"dataframe\">\n",
       "  <thead>\n",
       "    <tr style=\"text-align: right;\">\n",
       "      <th></th>\n",
       "      <th>time</th>\n",
       "      <th>measurement_mode</th>\n",
       "      <th>measurement_range</th>\n",
       "      <th>bt</th>\n",
       "      <th>bx_gse</th>\n",
       "      <th>by_gse</th>\n",
       "      <th>bz_gse</th>\n",
       "      <th>theta_gse</th>\n",
       "      <th>phi_gse</th>\n",
       "      <th>bx_gsm</th>\n",
       "      <th>...</th>\n",
       "      <th>theta_gsm</th>\n",
       "      <th>phi_gsm</th>\n",
       "      <th>backfill_flag</th>\n",
       "      <th>future_packet_time_flag</th>\n",
       "      <th>old_packet_time_flag</th>\n",
       "      <th>fill_flag</th>\n",
       "      <th>possible_saturation_flag</th>\n",
       "      <th>calibration_mode_flag</th>\n",
       "      <th>maneuver_flag</th>\n",
       "      <th>low_sample_count_flag</th>\n",
       "    </tr>\n",
       "  </thead>\n",
       "  <tbody>\n",
       "    <tr>\n",
       "      <th>0</th>\n",
       "      <td>1.696378e+12</td>\n",
       "      <td>0</td>\n",
       "      <td>1</td>\n",
       "      <td>8.25760</td>\n",
       "      <td>-7.26610</td>\n",
       "      <td>3.86730</td>\n",
       "      <td>-0.66013</td>\n",
       "      <td>-4.58522</td>\n",
       "      <td>151.97633</td>\n",
       "      <td>-7.26610</td>\n",
       "      <td>...</td>\n",
       "      <td>-11.13463</td>\n",
       "      <td>153.74187</td>\n",
       "      <td>0</td>\n",
       "      <td>0</td>\n",
       "      <td>0</td>\n",
       "      <td>0</td>\n",
       "      <td>0</td>\n",
       "      <td>0</td>\n",
       "      <td>0</td>\n",
       "      <td>0</td>\n",
       "    </tr>\n",
       "    <tr>\n",
       "      <th>1</th>\n",
       "      <td>1.696378e+12</td>\n",
       "      <td>0</td>\n",
       "      <td>1</td>\n",
       "      <td>8.31271</td>\n",
       "      <td>-7.32046</td>\n",
       "      <td>3.88709</td>\n",
       "      <td>-0.63440</td>\n",
       "      <td>-4.37691</td>\n",
       "      <td>152.03217</td>\n",
       "      <td>-7.32046</td>\n",
       "      <td>...</td>\n",
       "      <td>-10.91916</td>\n",
       "      <td>153.74998</td>\n",
       "      <td>0</td>\n",
       "      <td>0</td>\n",
       "      <td>0</td>\n",
       "      <td>0</td>\n",
       "      <td>0</td>\n",
       "      <td>0</td>\n",
       "      <td>0</td>\n",
       "      <td>0</td>\n",
       "    </tr>\n",
       "    <tr>\n",
       "      <th>2</th>\n",
       "      <td>1.696378e+12</td>\n",
       "      <td>0</td>\n",
       "      <td>1</td>\n",
       "      <td>8.30744</td>\n",
       "      <td>-7.33629</td>\n",
       "      <td>3.84153</td>\n",
       "      <td>-0.65969</td>\n",
       "      <td>-4.55464</td>\n",
       "      <td>152.36194</td>\n",
       "      <td>-7.33629</td>\n",
       "      <td>...</td>\n",
       "      <td>-11.01928</td>\n",
       "      <td>154.11678</td>\n",
       "      <td>0</td>\n",
       "      <td>0</td>\n",
       "      <td>0</td>\n",
       "      <td>0</td>\n",
       "      <td>0</td>\n",
       "      <td>0</td>\n",
       "      <td>0</td>\n",
       "      <td>0</td>\n",
       "    </tr>\n",
       "    <tr>\n",
       "      <th>3</th>\n",
       "      <td>1.696378e+12</td>\n",
       "      <td>0</td>\n",
       "      <td>1</td>\n",
       "      <td>8.32890</td>\n",
       "      <td>-7.33255</td>\n",
       "      <td>3.89093</td>\n",
       "      <td>-0.68188</td>\n",
       "      <td>-4.69599</td>\n",
       "      <td>152.04788</td>\n",
       "      <td>-7.33255</td>\n",
       "      <td>...</td>\n",
       "      <td>-11.22678</td>\n",
       "      <td>153.83781</td>\n",
       "      <td>0</td>\n",
       "      <td>0</td>\n",
       "      <td>0</td>\n",
       "      <td>0</td>\n",
       "      <td>0</td>\n",
       "      <td>0</td>\n",
       "      <td>0</td>\n",
       "      <td>0</td>\n",
       "    </tr>\n",
       "    <tr>\n",
       "      <th>4</th>\n",
       "      <td>1.696378e+12</td>\n",
       "      <td>0</td>\n",
       "      <td>1</td>\n",
       "      <td>8.25847</td>\n",
       "      <td>-7.26740</td>\n",
       "      <td>3.86860</td>\n",
       "      <td>-0.64901</td>\n",
       "      <td>-4.50737</td>\n",
       "      <td>151.97263</td>\n",
       "      <td>-7.26740</td>\n",
       "      <td>...</td>\n",
       "      <td>-11.05955</td>\n",
       "      <td>153.72057</td>\n",
       "      <td>0</td>\n",
       "      <td>0</td>\n",
       "      <td>0</td>\n",
       "      <td>0</td>\n",
       "      <td>0</td>\n",
       "      <td>0</td>\n",
       "      <td>0</td>\n",
       "      <td>0</td>\n",
       "    </tr>\n",
       "    <tr>\n",
       "      <th>...</th>\n",
       "      <td>...</td>\n",
       "      <td>...</td>\n",
       "      <td>...</td>\n",
       "      <td>...</td>\n",
       "      <td>...</td>\n",
       "      <td>...</td>\n",
       "      <td>...</td>\n",
       "      <td>...</td>\n",
       "      <td>...</td>\n",
       "      <td>...</td>\n",
       "      <td>...</td>\n",
       "      <td>...</td>\n",
       "      <td>...</td>\n",
       "      <td>...</td>\n",
       "      <td>...</td>\n",
       "      <td>...</td>\n",
       "      <td>...</td>\n",
       "      <td>...</td>\n",
       "      <td>...</td>\n",
       "      <td>...</td>\n",
       "      <td>...</td>\n",
       "    </tr>\n",
       "    <tr>\n",
       "      <th>4206180</th>\n",
       "      <td>1.696464e+12</td>\n",
       "      <td>0</td>\n",
       "      <td>1</td>\n",
       "      <td>7.41248</td>\n",
       "      <td>-2.97733</td>\n",
       "      <td>-0.00788</td>\n",
       "      <td>-6.78824</td>\n",
       "      <td>-66.31762</td>\n",
       "      <td>180.15163</td>\n",
       "      <td>-2.97733</td>\n",
       "      <td>...</td>\n",
       "      <td>-62.55466</td>\n",
       "      <td>209.36950</td>\n",
       "      <td>0</td>\n",
       "      <td>0</td>\n",
       "      <td>0</td>\n",
       "      <td>0</td>\n",
       "      <td>0</td>\n",
       "      <td>0</td>\n",
       "      <td>0</td>\n",
       "      <td>0</td>\n",
       "    </tr>\n",
       "    <tr>\n",
       "      <th>4206181</th>\n",
       "      <td>1.696464e+12</td>\n",
       "      <td>0</td>\n",
       "      <td>1</td>\n",
       "      <td>7.43480</td>\n",
       "      <td>-2.91122</td>\n",
       "      <td>-0.03420</td>\n",
       "      <td>-6.84105</td>\n",
       "      <td>-66.94632</td>\n",
       "      <td>180.67302</td>\n",
       "      <td>-2.91122</td>\n",
       "      <td>...</td>\n",
       "      <td>-62.97404</td>\n",
       "      <td>210.48831</td>\n",
       "      <td>0</td>\n",
       "      <td>0</td>\n",
       "      <td>0</td>\n",
       "      <td>0</td>\n",
       "      <td>0</td>\n",
       "      <td>0</td>\n",
       "      <td>0</td>\n",
       "      <td>0</td>\n",
       "    </tr>\n",
       "    <tr>\n",
       "      <th>4206182</th>\n",
       "      <td>1.696464e+12</td>\n",
       "      <td>0</td>\n",
       "      <td>1</td>\n",
       "      <td>7.45241</td>\n",
       "      <td>-2.92611</td>\n",
       "      <td>0.08907</td>\n",
       "      <td>-6.85335</td>\n",
       "      <td>-66.86984</td>\n",
       "      <td>178.25653</td>\n",
       "      <td>-2.92611</td>\n",
       "      <td>...</td>\n",
       "      <td>-63.42633</td>\n",
       "      <td>208.63332</td>\n",
       "      <td>0</td>\n",
       "      <td>0</td>\n",
       "      <td>0</td>\n",
       "      <td>0</td>\n",
       "      <td>0</td>\n",
       "      <td>0</td>\n",
       "      <td>0</td>\n",
       "      <td>0</td>\n",
       "    </tr>\n",
       "    <tr>\n",
       "      <th>4206183</th>\n",
       "      <td>1.696464e+12</td>\n",
       "      <td>0</td>\n",
       "      <td>1</td>\n",
       "      <td>7.52263</td>\n",
       "      <td>-2.96612</td>\n",
       "      <td>0.06653</td>\n",
       "      <td>-6.91287</td>\n",
       "      <td>-66.77195</td>\n",
       "      <td>178.71506</td>\n",
       "      <td>-2.96612</td>\n",
       "      <td>...</td>\n",
       "      <td>-63.24563</td>\n",
       "      <td>208.85051</td>\n",
       "      <td>0</td>\n",
       "      <td>0</td>\n",
       "      <td>0</td>\n",
       "      <td>0</td>\n",
       "      <td>0</td>\n",
       "      <td>0</td>\n",
       "      <td>0</td>\n",
       "      <td>0</td>\n",
       "    </tr>\n",
       "    <tr>\n",
       "      <th>4206184</th>\n",
       "      <td>1.696464e+12</td>\n",
       "      <td>0</td>\n",
       "      <td>1</td>\n",
       "      <td>7.60975</td>\n",
       "      <td>-2.99062</td>\n",
       "      <td>0.19282</td>\n",
       "      <td>-6.99480</td>\n",
       "      <td>-66.80795</td>\n",
       "      <td>176.31096</td>\n",
       "      <td>-2.99062</td>\n",
       "      <td>...</td>\n",
       "      <td>-63.79727</td>\n",
       "      <td>207.12100</td>\n",
       "      <td>0</td>\n",
       "      <td>0</td>\n",
       "      <td>0</td>\n",
       "      <td>0</td>\n",
       "      <td>0</td>\n",
       "      <td>0</td>\n",
       "      <td>0</td>\n",
       "      <td>0</td>\n",
       "    </tr>\n",
       "  </tbody>\n",
       "</table>\n",
       "<p>4206185 rows × 22 columns</p>\n",
       "</div>"
      ],
      "text/plain": [
       "                 time  measurement_mode  measurement_range       bt   bx_gse  \\\n",
       "0        1.696378e+12                 0                  1  8.25760 -7.26610   \n",
       "1        1.696378e+12                 0                  1  8.31271 -7.32046   \n",
       "2        1.696378e+12                 0                  1  8.30744 -7.33629   \n",
       "3        1.696378e+12                 0                  1  8.32890 -7.33255   \n",
       "4        1.696378e+12                 0                  1  8.25847 -7.26740   \n",
       "...               ...               ...                ...      ...      ...   \n",
       "4206180  1.696464e+12                 0                  1  7.41248 -2.97733   \n",
       "4206181  1.696464e+12                 0                  1  7.43480 -2.91122   \n",
       "4206182  1.696464e+12                 0                  1  7.45241 -2.92611   \n",
       "4206183  1.696464e+12                 0                  1  7.52263 -2.96612   \n",
       "4206184  1.696464e+12                 0                  1  7.60975 -2.99062   \n",
       "\n",
       "          by_gse   bz_gse  theta_gse    phi_gse   bx_gsm  ...  theta_gsm  \\\n",
       "0        3.86730 -0.66013   -4.58522  151.97633 -7.26610  ...  -11.13463   \n",
       "1        3.88709 -0.63440   -4.37691  152.03217 -7.32046  ...  -10.91916   \n",
       "2        3.84153 -0.65969   -4.55464  152.36194 -7.33629  ...  -11.01928   \n",
       "3        3.89093 -0.68188   -4.69599  152.04788 -7.33255  ...  -11.22678   \n",
       "4        3.86860 -0.64901   -4.50737  151.97263 -7.26740  ...  -11.05955   \n",
       "...          ...      ...        ...        ...      ...  ...        ...   \n",
       "4206180 -0.00788 -6.78824  -66.31762  180.15163 -2.97733  ...  -62.55466   \n",
       "4206181 -0.03420 -6.84105  -66.94632  180.67302 -2.91122  ...  -62.97404   \n",
       "4206182  0.08907 -6.85335  -66.86984  178.25653 -2.92611  ...  -63.42633   \n",
       "4206183  0.06653 -6.91287  -66.77195  178.71506 -2.96612  ...  -63.24563   \n",
       "4206184  0.19282 -6.99480  -66.80795  176.31096 -2.99062  ...  -63.79727   \n",
       "\n",
       "           phi_gsm  backfill_flag  future_packet_time_flag  \\\n",
       "0        153.74187              0                        0   \n",
       "1        153.74998              0                        0   \n",
       "2        154.11678              0                        0   \n",
       "3        153.83781              0                        0   \n",
       "4        153.72057              0                        0   \n",
       "...            ...            ...                      ...   \n",
       "4206180  209.36950              0                        0   \n",
       "4206181  210.48831              0                        0   \n",
       "4206182  208.63332              0                        0   \n",
       "4206183  208.85051              0                        0   \n",
       "4206184  207.12100              0                        0   \n",
       "\n",
       "         old_packet_time_flag  fill_flag  possible_saturation_flag  \\\n",
       "0                           0          0                         0   \n",
       "1                           0          0                         0   \n",
       "2                           0          0                         0   \n",
       "3                           0          0                         0   \n",
       "4                           0          0                         0   \n",
       "...                       ...        ...                       ...   \n",
       "4206180                     0          0                         0   \n",
       "4206181                     0          0                         0   \n",
       "4206182                     0          0                         0   \n",
       "4206183                     0          0                         0   \n",
       "4206184                     0          0                         0   \n",
       "\n",
       "         calibration_mode_flag  maneuver_flag  low_sample_count_flag  \n",
       "0                            0              0                      0  \n",
       "1                            0              0                      0  \n",
       "2                            0              0                      0  \n",
       "3                            0              0                      0  \n",
       "4                            0              0                      0  \n",
       "...                        ...            ...                    ...  \n",
       "4206180                      0              0                      0  \n",
       "4206181                      0              0                      0  \n",
       "4206182                      0              0                      0  \n",
       "4206183                      0              0                      0  \n",
       "4206184                      0              0                      0  \n",
       "\n",
       "[4206185 rows x 22 columns]"
      ]
     },
     "execution_count": 3,
     "metadata": {},
     "output_type": "execute_result"
    }
   ],
   "source": [
    "df"
   ]
  },
  {
   "cell_type": "code",
   "execution_count": 4,
   "metadata": {},
   "outputs": [],
   "source": [
    "import vaex"
   ]
  },
  {
   "cell_type": "code",
   "execution_count": 5,
   "metadata": {},
   "outputs": [],
   "source": [
    "a = vaex.open(\"../Level1-mg-CSV/oe_mg1_dscovr_s20231004000000_e20231004235959_p20231005013851_pub.csv\")"
   ]
  },
  {
   "cell_type": "code",
   "execution_count": 6,
   "metadata": {},
   "outputs": [
    {
     "data": {
      "text/html": [
       "<table>\n",
       "<thead>\n",
       "<tr><th>#                                    </th><th>time           </th><th>measurement_mode  </th><th>measurement_range  </th><th>bt     </th><th>bx_gse  </th><th>by_gse  </th><th>bz_gse  </th><th>theta_gse  </th><th>phi_gse  </th><th>bx_gsm  </th><th>by_gsm  </th><th>bz_gsm  </th><th>theta_gsm  </th><th>phi_gsm  </th><th>backfill_flag  </th><th>future_packet_time_flag  </th><th>old_packet_time_flag  </th><th>fill_flag  </th><th>possible_saturation_flag  </th><th>calibration_mode_flag  </th><th>maneuver_flag  </th><th>low_sample_count_flag  </th></tr>\n",
       "</thead>\n",
       "<tbody>\n",
       "<tr><td><i style='opacity: 0.6'>0</i>        </td><td>1696377600019.0</td><td>0                 </td><td>1                  </td><td>8.2576 </td><td>-7.2661 </td><td>3.8673  </td><td>-0.66013</td><td>-4.58522   </td><td>151.97633</td><td>-7.2661 </td><td>3.58453 </td><td>-1.59467</td><td>-11.13463  </td><td>153.74187</td><td>0              </td><td>0                        </td><td>0                     </td><td>0          </td><td>0                         </td><td>0                      </td><td>0              </td><td>0                      </td></tr>\n",
       "<tr><td><i style='opacity: 0.6'>1</i>        </td><td>1696377600039.0</td><td>0                 </td><td>1                  </td><td>8.31271</td><td>-7.32046</td><td>3.88709 </td><td>-0.6344 </td><td>-4.37691   </td><td>152.03217</td><td>-7.32046</td><td>3.61005 </td><td>-1.57462</td><td>-10.91916  </td><td>153.74998</td><td>0              </td><td>0                        </td><td>0                     </td><td>0          </td><td>0                         </td><td>0                      </td><td>0              </td><td>0                      </td></tr>\n",
       "<tr><td><i style='opacity: 0.6'>2</i>        </td><td>1696377600059.0</td><td>0                 </td><td>1                  </td><td>8.30744</td><td>-7.33629</td><td>3.84153 </td><td>-0.65969</td><td>-4.55464   </td><td>152.36194</td><td>-7.33629</td><td>3.55966 </td><td>-1.58788</td><td>-11.01928  </td><td>154.11678</td><td>0              </td><td>0                        </td><td>0                     </td><td>0          </td><td>0                         </td><td>0                      </td><td>0              </td><td>0                      </td></tr>\n",
       "<tr><td><i style='opacity: 0.6'>3</i>        </td><td>1696377600079.0</td><td>0                 </td><td>1                  </td><td>8.3289 </td><td>-7.33255</td><td>3.89093 </td><td>-0.68188</td><td>-4.69599   </td><td>152.04788</td><td>-7.33255</td><td>3.60205 </td><td>-1.62158</td><td>-11.22678  </td><td>153.83781</td><td>0              </td><td>0                        </td><td>0                     </td><td>0          </td><td>0                         </td><td>0                      </td><td>0              </td><td>0                      </td></tr>\n",
       "<tr><td><i style='opacity: 0.6'>4</i>        </td><td>1696377600099.0</td><td>0                 </td><td>1                  </td><td>8.25847</td><td>-7.2674 </td><td>3.8686  </td><td>-0.64901</td><td>-4.50737   </td><td>151.97263</td><td>-7.2674 </td><td>3.58853 </td><td>-1.58422</td><td>-11.05955  </td><td>153.72057</td><td>0              </td><td>0                        </td><td>0                     </td><td>0          </td><td>0                         </td><td>0                      </td><td>0              </td><td>0                      </td></tr>\n",
       "<tr><td>...                                  </td><td>...            </td><td>...               </td><td>...                </td><td>...    </td><td>...     </td><td>...     </td><td>...     </td><td>...        </td><td>...      </td><td>...     </td><td>...     </td><td>...     </td><td>...        </td><td>...      </td><td>...            </td><td>...                      </td><td>...                   </td><td>...        </td><td>...                       </td><td>...                    </td><td>...            </td><td>...                    </td></tr>\n",
       "<tr><td><i style='opacity: 0.6'>4,206,180</i></td><td>1696463998999.0</td><td>0                 </td><td>1                  </td><td>7.41248</td><td>-2.97733</td><td>-0.00788</td><td>-6.78824</td><td>-66.31762  </td><td>180.15163</td><td>-2.97733</td><td>-1.67555</td><td>-6.57821</td><td>-62.55466  </td><td>209.3695 </td><td>0              </td><td>0                        </td><td>0                     </td><td>0          </td><td>0                         </td><td>0                      </td><td>0              </td><td>0                      </td></tr>\n",
       "<tr><td><i style='opacity: 0.6'>4,206,181</i></td><td>1696463999019.0</td><td>0                 </td><td>1                  </td><td>7.4348 </td><td>-2.91122</td><td>-0.0342 </td><td>-6.84105</td><td>-66.94632  </td><td>180.67302</td><td>-2.91122</td><td>-1.71404</td><td>-6.62293</td><td>-62.97404  </td><td>210.48831</td><td>0              </td><td>0                        </td><td>0                     </td><td>0          </td><td>0                         </td><td>0                      </td><td>0              </td><td>0                      </td></tr>\n",
       "<tr><td><i style='opacity: 0.6'>4,206,182</i></td><td>1696463999039.0</td><td>0                 </td><td>1                  </td><td>7.45241</td><td>-2.92611</td><td>0.08907 </td><td>-6.85335</td><td>-66.86984  </td><td>178.25653</td><td>-2.92611</td><td>-1.59758</td><td>-6.66514</td><td>-63.42633  </td><td>208.63332</td><td>0              </td><td>0                        </td><td>0                     </td><td>0          </td><td>0                         </td><td>0                      </td><td>0              </td><td>0                      </td></tr>\n",
       "<tr><td><i style='opacity: 0.6'>4,206,183</i></td><td>1696463999059.0</td><td>0                 </td><td>1                  </td><td>7.52263</td><td>-2.96612</td><td>0.06653 </td><td>-6.91287</td><td>-66.77195  </td><td>178.71506</td><td>-2.96612</td><td>-1.63404</td><td>-6.71729</td><td>-63.24563  </td><td>208.85051</td><td>0              </td><td>0                        </td><td>0                     </td><td>0          </td><td>0                         </td><td>0                      </td><td>0              </td><td>0                      </td></tr>\n",
       "<tr><td><i style='opacity: 0.6'>4,206,184</i></td><td>1696463999079.0</td><td>0                 </td><td>1                  </td><td>7.60975</td><td>-2.99062</td><td>0.19282 </td><td>-6.9948 </td><td>-66.80795  </td><td>176.31096</td><td>-2.99062</td><td>-1.53176</td><td>-6.82775</td><td>-63.79727  </td><td>207.121  </td><td>0              </td><td>0                        </td><td>0                     </td><td>0          </td><td>0                         </td><td>0                      </td><td>0              </td><td>0                      </td></tr>\n",
       "</tbody>\n",
       "</table>"
      ],
      "text/plain": [
       "#          time             measurement_mode    measurement_range    bt       bx_gse    by_gse    bz_gse    theta_gse    phi_gse    bx_gsm    by_gsm    bz_gsm    theta_gsm    phi_gsm    backfill_flag    future_packet_time_flag    old_packet_time_flag    fill_flag    possible_saturation_flag    calibration_mode_flag    maneuver_flag    low_sample_count_flag\n",
       "0          1696377600019.0  0                   1                    8.2576   -7.2661   3.8673    -0.66013  -4.58522     151.97633  -7.2661   3.58453   -1.59467  -11.13463    153.74187  0                0                          0                       0            0                           0                        0                0\n",
       "1          1696377600039.0  0                   1                    8.31271  -7.32046  3.88709   -0.6344   -4.37691     152.03217  -7.32046  3.61005   -1.57462  -10.91916    153.74998  0                0                          0                       0            0                           0                        0                0\n",
       "2          1696377600059.0  0                   1                    8.30744  -7.33629  3.84153   -0.65969  -4.55464     152.36194  -7.33629  3.55966   -1.58788  -11.01928    154.11678  0                0                          0                       0            0                           0                        0                0\n",
       "3          1696377600079.0  0                   1                    8.3289   -7.33255  3.89093   -0.68188  -4.69599     152.04788  -7.33255  3.60205   -1.62158  -11.22678    153.83781  0                0                          0                       0            0                           0                        0                0\n",
       "4          1696377600099.0  0                   1                    8.25847  -7.2674   3.8686    -0.64901  -4.50737     151.97263  -7.2674   3.58853   -1.58422  -11.05955    153.72057  0                0                          0                       0            0                           0                        0                0\n",
       "...        ...              ...                 ...                  ...      ...       ...       ...       ...          ...        ...       ...       ...       ...          ...        ...              ...                        ...                     ...          ...                         ...                      ...              ...\n",
       "4,206,180  1696463998999.0  0                   1                    7.41248  -2.97733  -0.00788  -6.78824  -66.31762    180.15163  -2.97733  -1.67555  -6.57821  -62.55466    209.3695   0                0                          0                       0            0                           0                        0                0\n",
       "4,206,181  1696463999019.0  0                   1                    7.4348   -2.91122  -0.0342   -6.84105  -66.94632    180.67302  -2.91122  -1.71404  -6.62293  -62.97404    210.48831  0                0                          0                       0            0                           0                        0                0\n",
       "4,206,182  1696463999039.0  0                   1                    7.45241  -2.92611  0.08907   -6.85335  -66.86984    178.25653  -2.92611  -1.59758  -6.66514  -63.42633    208.63332  0                0                          0                       0            0                           0                        0                0\n",
       "4,206,183  1696463999059.0  0                   1                    7.52263  -2.96612  0.06653   -6.91287  -66.77195    178.71506  -2.96612  -1.63404  -6.71729  -63.24563    208.85051  0                0                          0                       0            0                           0                        0                0\n",
       "4,206,184  1696463999079.0  0                   1                    7.60975  -2.99062  0.19282   -6.9948   -66.80795    176.31096  -2.99062  -1.53176  -6.82775  -63.79727    207.121    0                0                          0                       0            0                           0                        0                0"
      ]
     },
     "execution_count": 6,
     "metadata": {},
     "output_type": "execute_result"
    }
   ],
   "source": [
    "a"
   ]
  },
  {
   "cell_type": "code",
   "execution_count": 9,
   "metadata": {},
   "outputs": [],
   "source": [
    "df = None\n",
    "a = None"
   ]
  },
  {
   "cell_type": "code",
   "execution_count": 7,
   "metadata": {},
   "outputs": [],
   "source": [
    "b = vaex.open(\"../Level1-fc-CSV/oe_fc1_dscovr_s20231004000000_e20231004235959_p20231005022524_pub.csv\")"
   ]
  },
  {
   "cell_type": "code",
   "execution_count": 8,
   "metadata": {},
   "outputs": [
    {
     "data": {
      "text/html": [
       "<table>\n",
       "<thead>\n",
       "<tr><th>#                                 </th><th>time           </th><th>proton_vx_gse  </th><th>proton_vy_gse  </th><th>proton_vz_gse  </th><th>proton_vx_gsm  </th><th>proton_vy_gsm  </th><th>proton_vz_gsm  </th><th>proton_speed  </th><th>proton_density  </th><th>proton_temperature  </th><th>alpha_vx_gse  </th><th>alpha_vy_gse  </th><th>alpha_vz_gse  </th><th>alpha_vx_gsm  </th><th>alpha_vy_gsm  </th><th>alpha_vz_gsm  </th><th>alpha_speed  </th><th>alpha_density  </th><th>alpha_temperature  </th><th>backfill_flag  </th><th>future_packet_time_flag  </th><th>old_packet_time_flag  </th><th>fill_flag  </th><th>normal_mode_flag  </th><th>proton_peak_unresolved_flag  </th><th>proton_alpha_confusion_flag  </th><th>proton_out_of_range_high_flag  </th><th>proton_out_of_range_low_flag  </th><th>proton_out_of_range_unknown_flag  </th><th>proton_peak_unbounded_flag  </th><th>alpha_peak_unresolved_flag  </th><th>alpha_proton_confusion_flag  </th><th>alpha_out_of_range_high_flag  </th><th>alpha_out_of_range_unknown_flag  </th><th>alpha_peak_unbounded_flag  </th><th>alpha_position_low_flag  </th><th>alpha_position_high_flag  </th><th>alpha_peak_height_flag  </th><th>possible_second_proton_peak_flag  </th><th>large_flow_angle_flag  </th><th>unexpected_peak_location_right_flag  </th><th>unexpected_peak_location_left_flag  </th><th>proton_peak_loss_flag  </th><th>calibration_mode_flag  </th><th>maneuver_flag  </th><th>reduced_proton_quality_flag  </th><th>alpha_peak_loss_flag  </th><th>reduced_alpha_quality_flag  </th><th>bad_proton_speed_flag  </th><th>bad_proton_density_flag  </th><th>bad_proton_temperature_flag  </th><th>bad_proton_vx_gse_flag  </th><th>bad_proton_vy_gse_flag  </th><th>bad_proton_vz_gse_flag  </th><th>bad_proton_vx_gsm_flag  </th><th>bad_proton_proton_vy_gsm_flag  </th><th>bad_vz_gsm_flag  </th><th>bad_alpha_speed_flag  </th><th>bad_alpha_density_flag  </th><th>bad_alpha_temperature_flag  </th><th>bad_alpha_vx_gse_flag  </th><th>bad_alpha_vy_gse_flag  </th><th>bad_alpha_vz_gse_flag  </th><th>bad_alpha_vx_gsm_flag  </th><th>bad_alpha_vy_gsm_flag  </th><th>bad_alpha_vz_gsm_flag  </th></tr>\n",
       "</thead>\n",
       "<tbody>\n",
       "<tr><td><i style='opacity: 0.6'>0</i>     </td><td>1696377600527.0</td><td>-390.2         </td><td>-8.5           </td><td>-7.0           </td><td>-390.2         </td><td>-10.0          </td><td>-4.6           </td><td>390.4         </td><td>3.06            </td><td>130591.0            </td><td>--            </td><td>--            </td><td>--            </td><td>--            </td><td>--            </td><td>--            </td><td>--           </td><td>--             </td><td>--                 </td><td>0              </td><td>0                        </td><td>0                     </td><td>0          </td><td>0                 </td><td>0                            </td><td>0                            </td><td>0                              </td><td>0                             </td><td>0                                 </td><td>0                           </td><td>0                           </td><td>0                            </td><td>0                             </td><td>0                                </td><td>0                          </td><td>0                        </td><td>0                         </td><td>0                       </td><td>0                                 </td><td>1                      </td><td>0                                    </td><td>0                                   </td><td>0                      </td><td>0                      </td><td>0              </td><td>1                            </td><td>0                     </td><td>0                           </td><td>0                      </td><td>0                        </td><td>0                            </td><td>0                       </td><td>0                       </td><td>0                       </td><td>0                       </td><td>0                              </td><td>0                </td><td>0                     </td><td>0                       </td><td>0                           </td><td>0                      </td><td>0                      </td><td>0                      </td><td>0                      </td><td>0                      </td><td>0                      </td></tr>\n",
       "<tr><td><i style='opacity: 0.6'>1</i>     </td><td>1696377605799.0</td><td>-392.7         </td><td>-8.6           </td><td>-7.0           </td><td>-392.7         </td><td>-10.1          </td><td>-4.7           </td><td>392.9         </td><td>3.15            </td><td>129844.0            </td><td>--            </td><td>--            </td><td>--            </td><td>--            </td><td>--            </td><td>--            </td><td>--           </td><td>--             </td><td>--                 </td><td>0              </td><td>0                        </td><td>0                     </td><td>0          </td><td>0                 </td><td>0                            </td><td>0                            </td><td>0                              </td><td>0                             </td><td>0                                 </td><td>0                           </td><td>0                           </td><td>0                            </td><td>0                             </td><td>0                                </td><td>0                          </td><td>0                        </td><td>0                         </td><td>0                       </td><td>0                                 </td><td>1                      </td><td>1                                    </td><td>0                                   </td><td>0                      </td><td>0                      </td><td>0              </td><td>1                            </td><td>0                     </td><td>0                           </td><td>0                      </td><td>0                        </td><td>0                            </td><td>0                       </td><td>0                       </td><td>0                       </td><td>0                       </td><td>0                              </td><td>0                </td><td>0                     </td><td>0                       </td><td>0                           </td><td>0                      </td><td>0                      </td><td>0                      </td><td>0                      </td><td>0                      </td><td>0                      </td></tr>\n",
       "<tr><td><i style='opacity: 0.6'>2</i>     </td><td>1696377611070.0</td><td>-390.9         </td><td>-8.6           </td><td>-7.0           </td><td>-390.9         </td><td>-10.0          </td><td>-4.7           </td><td>391.1         </td><td>3.17            </td><td>135090.0            </td><td>--            </td><td>--            </td><td>--            </td><td>--            </td><td>--            </td><td>--            </td><td>--           </td><td>--             </td><td>--                 </td><td>0              </td><td>0                        </td><td>0                     </td><td>0          </td><td>0                 </td><td>0                            </td><td>0                            </td><td>0                              </td><td>0                             </td><td>0                                 </td><td>0                           </td><td>0                           </td><td>0                            </td><td>0                             </td><td>0                                </td><td>0                          </td><td>0                        </td><td>0                         </td><td>0                       </td><td>0                                 </td><td>1                      </td><td>1                                    </td><td>0                                   </td><td>0                      </td><td>0                      </td><td>0              </td><td>1                            </td><td>0                     </td><td>0                           </td><td>0                      </td><td>0                        </td><td>0                            </td><td>0                       </td><td>0                       </td><td>0                       </td><td>0                       </td><td>0                              </td><td>0                </td><td>0                     </td><td>0                       </td><td>0                           </td><td>0                      </td><td>0                      </td><td>0                      </td><td>0                      </td><td>0                      </td><td>0                      </td></tr>\n",
       "<tr><td><i style='opacity: 0.6'>3</i>     </td><td>1696377616342.0</td><td>-386.6         </td><td>-123.4         </td><td>1.2            </td><td>-386.6         </td><td>-119.3         </td><td>31.6           </td><td>405.9         </td><td>3.37            </td><td>123702.0            </td><td>--            </td><td>--            </td><td>--            </td><td>--            </td><td>--            </td><td>--            </td><td>--           </td><td>--             </td><td>--                 </td><td>0              </td><td>0                        </td><td>0                     </td><td>0          </td><td>0                 </td><td>0                            </td><td>0                            </td><td>0                              </td><td>0                             </td><td>0                                 </td><td>0                           </td><td>0                           </td><td>0                            </td><td>0                             </td><td>0                                </td><td>0                          </td><td>0                        </td><td>0                         </td><td>0                       </td><td>0                                 </td><td>0                      </td><td>1                                    </td><td>0                                   </td><td>0                      </td><td>0                      </td><td>0              </td><td>1                            </td><td>0                     </td><td>0                           </td><td>0                      </td><td>0                        </td><td>0                            </td><td>0                       </td><td>0                       </td><td>0                       </td><td>0                       </td><td>0                              </td><td>0                </td><td>0                     </td><td>0                       </td><td>0                           </td><td>0                      </td><td>0                      </td><td>0                      </td><td>0                      </td><td>0                      </td><td>0                      </td></tr>\n",
       "<tr><td><i style='opacity: 0.6'>4</i>     </td><td>1696377621613.0</td><td>-385.4         </td><td>-109.7         </td><td>-9.3           </td><td>-385.4         </td><td>-108.6         </td><td>18.1           </td><td>400.8         </td><td>3.6             </td><td>119270.0            </td><td>--            </td><td>--            </td><td>--            </td><td>--            </td><td>--            </td><td>--            </td><td>--           </td><td>--             </td><td>--                 </td><td>0              </td><td>0                        </td><td>0                     </td><td>0          </td><td>0                 </td><td>0                            </td><td>0                            </td><td>0                              </td><td>0                             </td><td>0                                 </td><td>0                           </td><td>0                           </td><td>0                            </td><td>0                             </td><td>0                                </td><td>0                          </td><td>0                        </td><td>0                         </td><td>0                       </td><td>0                                 </td><td>0                      </td><td>0                                    </td><td>0                                   </td><td>0                      </td><td>0                      </td><td>0              </td><td>0                            </td><td>0                     </td><td>0                           </td><td>0                      </td><td>0                        </td><td>0                            </td><td>0                       </td><td>0                       </td><td>0                       </td><td>0                       </td><td>0                              </td><td>0                </td><td>0                     </td><td>0                       </td><td>0                           </td><td>0                      </td><td>0                      </td><td>0                      </td><td>0                      </td><td>0                      </td><td>0                      </td></tr>\n",
       "<tr><td>...                               </td><td>...            </td><td>...            </td><td>...            </td><td>...            </td><td>...            </td><td>...            </td><td>...            </td><td>...           </td><td>...             </td><td>...                 </td><td>...           </td><td>...           </td><td>...           </td><td>...           </td><td>...           </td><td>...           </td><td>...          </td><td>...            </td><td>...                </td><td>...            </td><td>...                      </td><td>...                   </td><td>...        </td><td>...               </td><td>...                          </td><td>...                          </td><td>...                            </td><td>...                           </td><td>...                               </td><td>...                         </td><td>...                         </td><td>...                          </td><td>...                           </td><td>...                              </td><td>...                        </td><td>...                      </td><td>...                       </td><td>...                     </td><td>...                               </td><td>...                    </td><td>...                                  </td><td>...                                 </td><td>...                    </td><td>...                    </td><td>...            </td><td>...                          </td><td>...                   </td><td>...                         </td><td>...                    </td><td>...                      </td><td>...                          </td><td>...                     </td><td>...                     </td><td>...                     </td><td>...                     </td><td>...                            </td><td>...              </td><td>...                   </td><td>...                     </td><td>...                         </td><td>...                    </td><td>...                    </td><td>...                    </td><td>...                    </td><td>...                    </td><td>...                    </td></tr>\n",
       "<tr><td><i style='opacity: 0.6'>14,806</i></td><td>1696463970692.0</td><td>-422.1         </td><td>38.9           </td><td>69.2           </td><td>-422.1         </td><td>54.7           </td><td>57.5           </td><td>429.5         </td><td>6.57            </td><td>74829.0             </td><td>--            </td><td>--            </td><td>--            </td><td>--            </td><td>--            </td><td>--            </td><td>--           </td><td>--             </td><td>--                 </td><td>0              </td><td>0                        </td><td>0                     </td><td>0          </td><td>0                 </td><td>0                            </td><td>0                            </td><td>0                              </td><td>0                             </td><td>0                                 </td><td>0                           </td><td>0                           </td><td>0                            </td><td>0                             </td><td>0                                </td><td>0                          </td><td>0                        </td><td>0                         </td><td>0                       </td><td>0                                 </td><td>0                      </td><td>0                                    </td><td>0                                   </td><td>0                      </td><td>0                      </td><td>0              </td><td>0                            </td><td>0                     </td><td>0                           </td><td>0                      </td><td>0                        </td><td>0                            </td><td>0                       </td><td>0                       </td><td>0                       </td><td>0                       </td><td>0                              </td><td>0                </td><td>0                     </td><td>0                       </td><td>0                           </td><td>0                      </td><td>0                      </td><td>0                      </td><td>0                      </td><td>0                      </td><td>0                      </td></tr>\n",
       "<tr><td><i style='opacity: 0.6'>14,807</i></td><td>1696463976843.0</td><td>-421.5         </td><td>34.1           </td><td>71.1           </td><td>-421.5         </td><td>50.5           </td><td>60.5           </td><td>428.8         </td><td>6.71            </td><td>77990.0             </td><td>--            </td><td>--            </td><td>--            </td><td>--            </td><td>--            </td><td>--            </td><td>--           </td><td>--             </td><td>--                 </td><td>0              </td><td>0                        </td><td>0                     </td><td>0          </td><td>0                 </td><td>0                            </td><td>0                            </td><td>0                              </td><td>0                             </td><td>0                                 </td><td>0                           </td><td>0                           </td><td>0                            </td><td>0                             </td><td>0                                </td><td>0                          </td><td>0                        </td><td>0                         </td><td>0                       </td><td>0                                 </td><td>0                      </td><td>0                                    </td><td>0                                   </td><td>0                      </td><td>0                      </td><td>0              </td><td>0                            </td><td>0                     </td><td>0                           </td><td>0                      </td><td>0                        </td><td>0                            </td><td>0                       </td><td>0                       </td><td>0                       </td><td>0                       </td><td>0                              </td><td>0                </td><td>0                     </td><td>0                       </td><td>0                           </td><td>0                      </td><td>0                      </td><td>0                      </td><td>0                      </td><td>0                      </td><td>0                      </td></tr>\n",
       "<tr><td><i style='opacity: 0.6'>14,808</i></td><td>1696463982989.0</td><td>-421.5         </td><td>36.4           </td><td>71.0           </td><td>-421.5         </td><td>52.7           </td><td>59.9           </td><td>429.0         </td><td>6.82            </td><td>76997.0             </td><td>--            </td><td>--            </td><td>--            </td><td>--            </td><td>--            </td><td>--            </td><td>--           </td><td>--             </td><td>--                 </td><td>0              </td><td>0                        </td><td>0                     </td><td>0          </td><td>0                 </td><td>0                            </td><td>0                            </td><td>0                              </td><td>0                             </td><td>0                                 </td><td>0                           </td><td>0                           </td><td>0                            </td><td>0                             </td><td>0                                </td><td>0                          </td><td>0                        </td><td>0                         </td><td>0                       </td><td>0                                 </td><td>0                      </td><td>0                                    </td><td>0                                   </td><td>0                      </td><td>0                      </td><td>0              </td><td>0                            </td><td>0                     </td><td>0                           </td><td>0                      </td><td>0                        </td><td>0                            </td><td>0                       </td><td>0                       </td><td>0                       </td><td>0                       </td><td>0                              </td><td>0                </td><td>0                     </td><td>0                       </td><td>0                           </td><td>0                      </td><td>0                      </td><td>0                      </td><td>0                      </td><td>0                      </td><td>0                      </td></tr>\n",
       "<tr><td><i style='opacity: 0.6'>14,809</i></td><td>1696463989139.0</td><td>-421.6         </td><td>32.6           </td><td>66.6           </td><td>-421.6         </td><td>47.9           </td><td>56.5           </td><td>428.0         </td><td>6.62            </td><td>75076.0             </td><td>--            </td><td>--            </td><td>--            </td><td>--            </td><td>--            </td><td>--            </td><td>--           </td><td>--             </td><td>--                 </td><td>0              </td><td>0                        </td><td>0                     </td><td>0          </td><td>0                 </td><td>0                            </td><td>0                            </td><td>0                              </td><td>0                             </td><td>0                                 </td><td>0                           </td><td>0                           </td><td>0                            </td><td>0                             </td><td>0                                </td><td>0                          </td><td>0                        </td><td>0                         </td><td>0                       </td><td>0                                 </td><td>0                      </td><td>0                                    </td><td>0                                   </td><td>0                      </td><td>0                      </td><td>0              </td><td>0                            </td><td>0                     </td><td>0                           </td><td>0                      </td><td>0                        </td><td>0                            </td><td>0                       </td><td>0                       </td><td>0                       </td><td>0                       </td><td>0                              </td><td>0                </td><td>0                     </td><td>0                       </td><td>0                           </td><td>0                      </td><td>0                      </td><td>0                      </td><td>0                      </td><td>0                      </td><td>0                      </td></tr>\n",
       "<tr><td><i style='opacity: 0.6'>14,810</i></td><td>1696463995290.0</td><td>-421.6         </td><td>28.2           </td><td>77.9           </td><td>-421.6         </td><td>46.4           </td><td>68.6           </td><td>429.6         </td><td>6.78            </td><td>78546.0             </td><td>--            </td><td>--            </td><td>--            </td><td>--            </td><td>--            </td><td>--            </td><td>--           </td><td>--             </td><td>--                 </td><td>0              </td><td>0                        </td><td>0                     </td><td>0          </td><td>0                 </td><td>0                            </td><td>0                            </td><td>0                              </td><td>0                             </td><td>0                                 </td><td>0                           </td><td>0                           </td><td>0                            </td><td>0                             </td><td>0                                </td><td>0                          </td><td>0                        </td><td>0                         </td><td>0                       </td><td>0                                 </td><td>0                      </td><td>0                                    </td><td>0                                   </td><td>0                      </td><td>0                      </td><td>0              </td><td>0                            </td><td>0                     </td><td>0                           </td><td>0                      </td><td>0                        </td><td>0                            </td><td>0                       </td><td>0                       </td><td>0                       </td><td>0                       </td><td>0                              </td><td>0                </td><td>0                     </td><td>0                       </td><td>0                           </td><td>0                      </td><td>0                      </td><td>0                      </td><td>0                      </td><td>0                      </td><td>0                      </td></tr>\n",
       "</tbody>\n",
       "</table>"
      ],
      "text/plain": [
       "#       time             proton_vx_gse    proton_vy_gse    proton_vz_gse    proton_vx_gsm    proton_vy_gsm    proton_vz_gsm    proton_speed    proton_density    proton_temperature    alpha_vx_gse    alpha_vy_gse    alpha_vz_gse    alpha_vx_gsm    alpha_vy_gsm    alpha_vz_gsm    alpha_speed    alpha_density    alpha_temperature    backfill_flag    future_packet_time_flag    old_packet_time_flag    fill_flag    normal_mode_flag    proton_peak_unresolved_flag    proton_alpha_confusion_flag    proton_out_of_range_high_flag    proton_out_of_range_low_flag    proton_out_of_range_unknown_flag    proton_peak_unbounded_flag    alpha_peak_unresolved_flag    alpha_proton_confusion_flag    alpha_out_of_range_high_flag    alpha_out_of_range_unknown_flag    alpha_peak_unbounded_flag    alpha_position_low_flag    alpha_position_high_flag    alpha_peak_height_flag    possible_second_proton_peak_flag    large_flow_angle_flag    unexpected_peak_location_right_flag    unexpected_peak_location_left_flag    proton_peak_loss_flag    calibration_mode_flag    maneuver_flag    reduced_proton_quality_flag    alpha_peak_loss_flag    reduced_alpha_quality_flag    bad_proton_speed_flag    bad_proton_density_flag    bad_proton_temperature_flag    bad_proton_vx_gse_flag    bad_proton_vy_gse_flag    bad_proton_vz_gse_flag    bad_proton_vx_gsm_flag    bad_proton_proton_vy_gsm_flag    bad_vz_gsm_flag    bad_alpha_speed_flag    bad_alpha_density_flag    bad_alpha_temperature_flag    bad_alpha_vx_gse_flag    bad_alpha_vy_gse_flag    bad_alpha_vz_gse_flag    bad_alpha_vx_gsm_flag    bad_alpha_vy_gsm_flag    bad_alpha_vz_gsm_flag\n",
       "0       1696377600527.0  -390.2           -8.5             -7.0             -390.2           -10.0            -4.6             390.4           3.06              130591.0              --              --              --              --              --              --              --             --               --                   0                0                          0                       0            0                   0                              0                              0                                0                               0                                   0                             0                             0                              0                               0                                  0                            0                          0                           0                         0                                   1                        0                                      0                                     0                        0                        0                1                              0                       0                             0                        0                          0                              0                         0                         0                         0                         0                                0                  0                       0                         0                             0                        0                        0                        0                        0                        0\n",
       "1       1696377605799.0  -392.7           -8.6             -7.0             -392.7           -10.1            -4.7             392.9           3.15              129844.0              --              --              --              --              --              --              --             --               --                   0                0                          0                       0            0                   0                              0                              0                                0                               0                                   0                             0                             0                              0                               0                                  0                            0                          0                           0                         0                                   1                        1                                      0                                     0                        0                        0                1                              0                       0                             0                        0                          0                              0                         0                         0                         0                         0                                0                  0                       0                         0                             0                        0                        0                        0                        0                        0\n",
       "2       1696377611070.0  -390.9           -8.6             -7.0             -390.9           -10.0            -4.7             391.1           3.17              135090.0              --              --              --              --              --              --              --             --               --                   0                0                          0                       0            0                   0                              0                              0                                0                               0                                   0                             0                             0                              0                               0                                  0                            0                          0                           0                         0                                   1                        1                                      0                                     0                        0                        0                1                              0                       0                             0                        0                          0                              0                         0                         0                         0                         0                                0                  0                       0                         0                             0                        0                        0                        0                        0                        0\n",
       "3       1696377616342.0  -386.6           -123.4           1.2              -386.6           -119.3           31.6             405.9           3.37              123702.0              --              --              --              --              --              --              --             --               --                   0                0                          0                       0            0                   0                              0                              0                                0                               0                                   0                             0                             0                              0                               0                                  0                            0                          0                           0                         0                                   0                        1                                      0                                     0                        0                        0                1                              0                       0                             0                        0                          0                              0                         0                         0                         0                         0                                0                  0                       0                         0                             0                        0                        0                        0                        0                        0\n",
       "4       1696377621613.0  -385.4           -109.7           -9.3             -385.4           -108.6           18.1             400.8           3.6               119270.0              --              --              --              --              --              --              --             --               --                   0                0                          0                       0            0                   0                              0                              0                                0                               0                                   0                             0                             0                              0                               0                                  0                            0                          0                           0                         0                                   0                        0                                      0                                     0                        0                        0                0                              0                       0                             0                        0                          0                              0                         0                         0                         0                         0                                0                  0                       0                         0                             0                        0                        0                        0                        0                        0\n",
       "...     ...              ...              ...              ...              ...              ...              ...              ...             ...               ...                   ...             ...             ...             ...             ...             ...             ...            ...              ...                  ...              ...                        ...                     ...          ...                 ...                            ...                            ...                              ...                             ...                                 ...                           ...                           ...                            ...                             ...                                ...                          ...                        ...                         ...                       ...                                 ...                      ...                                    ...                                   ...                      ...                      ...              ...                            ...                     ...                           ...                      ...                        ...                            ...                       ...                       ...                       ...                       ...                              ...                ...                     ...                       ...                           ...                      ...                      ...                      ...                      ...                      ...\n",
       "14,806  1696463970692.0  -422.1           38.9             69.2             -422.1           54.7             57.5             429.5           6.57              74829.0               --              --              --              --              --              --              --             --               --                   0                0                          0                       0            0                   0                              0                              0                                0                               0                                   0                             0                             0                              0                               0                                  0                            0                          0                           0                         0                                   0                        0                                      0                                     0                        0                        0                0                              0                       0                             0                        0                          0                              0                         0                         0                         0                         0                                0                  0                       0                         0                             0                        0                        0                        0                        0                        0\n",
       "14,807  1696463976843.0  -421.5           34.1             71.1             -421.5           50.5             60.5             428.8           6.71              77990.0               --              --              --              --              --              --              --             --               --                   0                0                          0                       0            0                   0                              0                              0                                0                               0                                   0                             0                             0                              0                               0                                  0                            0                          0                           0                         0                                   0                        0                                      0                                     0                        0                        0                0                              0                       0                             0                        0                          0                              0                         0                         0                         0                         0                                0                  0                       0                         0                             0                        0                        0                        0                        0                        0\n",
       "14,808  1696463982989.0  -421.5           36.4             71.0             -421.5           52.7             59.9             429.0           6.82              76997.0               --              --              --              --              --              --              --             --               --                   0                0                          0                       0            0                   0                              0                              0                                0                               0                                   0                             0                             0                              0                               0                                  0                            0                          0                           0                         0                                   0                        0                                      0                                     0                        0                        0                0                              0                       0                             0                        0                          0                              0                         0                         0                         0                         0                                0                  0                       0                         0                             0                        0                        0                        0                        0                        0\n",
       "14,809  1696463989139.0  -421.6           32.6             66.6             -421.6           47.9             56.5             428.0           6.62              75076.0               --              --              --              --              --              --              --             --               --                   0                0                          0                       0            0                   0                              0                              0                                0                               0                                   0                             0                             0                              0                               0                                  0                            0                          0                           0                         0                                   0                        0                                      0                                     0                        0                        0                0                              0                       0                             0                        0                          0                              0                         0                         0                         0                         0                                0                  0                       0                         0                             0                        0                        0                        0                        0                        0\n",
       "14,810  1696463995290.0  -421.6           28.2             77.9             -421.6           46.4             68.6             429.6           6.78              78546.0               --              --              --              --              --              --              --             --               --                   0                0                          0                       0            0                   0                              0                              0                                0                               0                                   0                             0                             0                              0                               0                                  0                            0                          0                           0                         0                                   0                        0                                      0                                     0                        0                        0                0                              0                       0                             0                        0                          0                              0                         0                         0                         0                         0                                0                  0                       0                         0                             0                        0                        0                        0                        0                        0"
      ]
     },
     "execution_count": 8,
     "metadata": {},
     "output_type": "execute_result"
    }
   ],
   "source": [
    "b"
   ]
  },
  {
   "cell_type": "code",
   "execution_count": 10,
   "metadata": {},
   "outputs": [],
   "source": [
    "b= None"
   ]
  },
  {
   "cell_type": "code",
   "execution_count": 11,
   "metadata": {},
   "outputs": [],
   "source": [
    "import vaex\n",
    "import glob\n",
    "\n",
    "a= glob.glob(\"../Level1-mg-CSV/*.csv\")\n",
    "\n",
    "df = vaex.open_many(a)\n",
    "    "
   ]
  },
  {
   "cell_type": "code",
   "execution_count": 12,
   "metadata": {},
   "outputs": [],
   "source": [
    "df.export_hdf5('../Dataset/final_mg.hdf5')"
   ]
  },
  {
   "cell_type": "code",
   "execution_count": 13,
   "metadata": {},
   "outputs": [],
   "source": [
    "a =None"
   ]
  },
  {
   "cell_type": "code",
   "execution_count": 20,
   "metadata": {},
   "outputs": [],
   "source": [
    "a =vaex.open(\"../Dataset/final_mg.hdf5\")"
   ]
  },
  {
   "cell_type": "code",
   "execution_count": 21,
   "metadata": {},
   "outputs": [
    {
     "data": {
      "text/html": [
       "<table>\n",
       "<thead>\n",
       "<tr><th>#                                     </th><th>time           </th><th>measurement_mode  </th><th>measurement_range  </th><th>bt     </th><th>bx_gse  </th><th>by_gse  </th><th>bz_gse  </th><th>theta_gse  </th><th>phi_gse  </th><th>bx_gsm  </th><th>by_gsm  </th><th>bz_gsm  </th><th>theta_gsm  </th><th>phi_gsm  </th><th>backfill_flag  </th><th>future_packet_time_flag  </th><th>old_packet_time_flag  </th><th>fill_flag  </th><th>possible_saturation_flag  </th><th>calibration_mode_flag  </th><th>maneuver_flag  </th><th>low_sample_count_flag  </th></tr>\n",
       "</thead>\n",
       "<tbody>\n",
       "<tr><td><i style='opacity: 0.6'>0</i>         </td><td>1696464003099.0</td><td>0                 </td><td>1                  </td><td>7.61236</td><td>-3.07788</td><td>0.14571 </td><td>-6.96085</td><td>-66.12266  </td><td>177.28967</td><td>-3.07788</td><td>-1.56919</td><td>-6.78324</td><td>-63.00952  </td><td>207.01372</td><td>0              </td><td>0                        </td><td>0                     </td><td>0          </td><td>0                         </td><td>0                      </td><td>0              </td><td>0                      </td></tr>\n",
       "<tr><td><i style='opacity: 0.6'>1</i>         </td><td>1696464003119.0</td><td>0                 </td><td>1                  </td><td>7.5054 </td><td>-3.00725</td><td>0.16323 </td><td>-6.87465</td><td>-66.34257  </td><td>176.89304</td><td>-3.00725</td><td>-1.53102</td><td>-6.70399</td><td>-63.28099  </td><td>206.9811 </td><td>0              </td><td>0                        </td><td>0                     </td><td>0          </td><td>0                         </td><td>0                      </td><td>0              </td><td>0                      </td></tr>\n",
       "<tr><td><i style='opacity: 0.6'>2</i>         </td><td>1696464003139.0</td><td>0                 </td><td>1                  </td><td>7.61988</td><td>-3.07928</td><td>0.16201 </td><td>-6.9681 </td><td>-66.12957  </td><td>176.98836</td><td>-3.07928</td><td>-1.55517</td><td>-6.79427</td><td>-63.08136  </td><td>206.7958 </td><td>0              </td><td>0                        </td><td>0                     </td><td>0          </td><td>0                         </td><td>0                      </td><td>0              </td><td>0                      </td></tr>\n",
       "<tr><td><i style='opacity: 0.6'>3</i>         </td><td>1696464003159.0</td><td>0                 </td><td>1                  </td><td>7.53054</td><td>-3.0511 </td><td>0.19165 </td><td>-6.88209</td><td>-66.04862  </td><td>176.40587</td><td>-3.0511 </td><td>-1.50531</td><td>-6.71818</td><td>-63.14141  </td><td>206.26015</td><td>0              </td><td>0                        </td><td>0                     </td><td>0          </td><td>0                         </td><td>0                      </td><td>0              </td><td>0                      </td></tr>\n",
       "<tr><td><i style='opacity: 0.6'>4</i>         </td><td>1696464003179.0</td><td>0                 </td><td>1                  </td><td>7.53623</td><td>-3.02332</td><td>0.18153 </td><td>-6.90082</td><td>-66.30339  </td><td>176.5639 </td><td>-3.02332</td><td>-1.51971</td><td>-6.73385</td><td>-63.32033  </td><td>206.68707</td><td>0              </td><td>0                        </td><td>0                     </td><td>0          </td><td>0                         </td><td>0                      </td><td>0              </td><td>0                      </td></tr>\n",
       "<tr><td>...                                   </td><td>...            </td><td>...               </td><td>...                </td><td>...    </td><td>...     </td><td>...     </td><td>...     </td><td>...        </td><td>...      </td><td>...     </td><td>...     </td><td>...     </td><td>...        </td><td>...      </td><td>...            </td><td>...                      </td><td>...                   </td><td>...        </td><td>...                       </td><td>...                    </td><td>...            </td><td>...                    </td></tr>\n",
       "<tr><td><i style='opacity: 0.6'>12,617,847</i></td><td>1696636799919.0</td><td>0                 </td><td>1                  </td><td>6.03596</td><td>-2.27843</td><td>5.14553 </td><td>2.18291 </td><td>21.20161   </td><td>113.88369</td><td>-2.27843</td><td>5.52167 </td><td>0.86761 </td><td>8.2643     </td><td>112.42275</td><td>0              </td><td>0                        </td><td>0                     </td><td>0          </td><td>0                         </td><td>0                      </td><td>0              </td><td>0                      </td></tr>\n",
       "<tr><td><i style='opacity: 0.6'>12,617,848</i></td><td>1696636799939.0</td><td>0                 </td><td>1                  </td><td>6.01577</td><td>-2.28606</td><td>5.09596 </td><td>2.23486 </td><td>21.80816   </td><td>114.16116</td><td>-2.28606</td><td>5.4862  </td><td>0.93004 </td><td>8.89362    </td><td>112.62116</td><td>0              </td><td>0                        </td><td>0                     </td><td>0          </td><td>0                         </td><td>0                      </td><td>0              </td><td>0                      </td></tr>\n",
       "<tr><td><i style='opacity: 0.6'>12,617,849</i></td><td>1696636799959.0</td><td>0                 </td><td>1                  </td><td>6.04446</td><td>-2.23887</td><td>5.18819 </td><td>2.14608 </td><td>20.79643   </td><td>113.34179</td><td>-2.23887</td><td>5.5541  </td><td>0.82151 </td><td>7.81135    </td><td>111.9545 </td><td>0              </td><td>0                        </td><td>0                     </td><td>0          </td><td>0                         </td><td>0                      </td><td>0              </td><td>0                      </td></tr>\n",
       "<tr><td><i style='opacity: 0.6'>12,617,850</i></td><td>1696636799979.0</td><td>0                 </td><td>1                  </td><td>6.01557</td><td>-2.20228</td><td>5.11882 </td><td>2.266   </td><td>22.12877   </td><td>113.2789 </td><td>-2.20228</td><td>5.51594 </td><td>0.9547  </td><td>9.1317     </td><td>111.76468</td><td>0              </td><td>0                        </td><td>0                     </td><td>0          </td><td>0                         </td><td>0                      </td><td>0              </td><td>0                      </td></tr>\n",
       "<tr><td><i style='opacity: 0.6'>12,617,851</i></td><td>1696636799999.0</td><td>0                 </td><td>1                  </td><td>6.01862</td><td>-2.19439</td><td>5.13059 </td><td>2.25511 </td><td>22.00513   </td><td>113.15672</td><td>-2.19439</td><td>5.52471 </td><td>0.94128 </td><td>8.99765    </td><td>111.6627 </td><td>0              </td><td>0                        </td><td>0                     </td><td>0          </td><td>0                         </td><td>0                      </td><td>0              </td><td>0                      </td></tr>\n",
       "</tbody>\n",
       "</table>"
      ],
      "text/plain": [
       "#           time             measurement_mode    measurement_range    bt       bx_gse    by_gse    bz_gse    theta_gse    phi_gse    bx_gsm    by_gsm    bz_gsm    theta_gsm    phi_gsm    backfill_flag    future_packet_time_flag    old_packet_time_flag    fill_flag    possible_saturation_flag    calibration_mode_flag    maneuver_flag    low_sample_count_flag\n",
       "0           1696464003099.0  0                   1                    7.61236  -3.07788  0.14571   -6.96085  -66.12266    177.28967  -3.07788  -1.56919  -6.78324  -63.00952    207.01372  0                0                          0                       0            0                           0                        0                0\n",
       "1           1696464003119.0  0                   1                    7.5054   -3.00725  0.16323   -6.87465  -66.34257    176.89304  -3.00725  -1.53102  -6.70399  -63.28099    206.9811   0                0                          0                       0            0                           0                        0                0\n",
       "2           1696464003139.0  0                   1                    7.61988  -3.07928  0.16201   -6.9681   -66.12957    176.98836  -3.07928  -1.55517  -6.79427  -63.08136    206.7958   0                0                          0                       0            0                           0                        0                0\n",
       "3           1696464003159.0  0                   1                    7.53054  -3.0511   0.19165   -6.88209  -66.04862    176.40587  -3.0511   -1.50531  -6.71818  -63.14141    206.26015  0                0                          0                       0            0                           0                        0                0\n",
       "4           1696464003179.0  0                   1                    7.53623  -3.02332  0.18153   -6.90082  -66.30339    176.5639   -3.02332  -1.51971  -6.73385  -63.32033    206.68707  0                0                          0                       0            0                           0                        0                0\n",
       "...         ...              ...                 ...                  ...      ...       ...       ...       ...          ...        ...       ...       ...       ...          ...        ...              ...                        ...                     ...          ...                         ...                      ...              ...\n",
       "12,617,847  1696636799919.0  0                   1                    6.03596  -2.27843  5.14553   2.18291   21.20161     113.88369  -2.27843  5.52167   0.86761   8.2643       112.42275  0                0                          0                       0            0                           0                        0                0\n",
       "12,617,848  1696636799939.0  0                   1                    6.01577  -2.28606  5.09596   2.23486   21.80816     114.16116  -2.28606  5.4862    0.93004   8.89362      112.62116  0                0                          0                       0            0                           0                        0                0\n",
       "12,617,849  1696636799959.0  0                   1                    6.04446  -2.23887  5.18819   2.14608   20.79643     113.34179  -2.23887  5.5541    0.82151   7.81135      111.9545   0                0                          0                       0            0                           0                        0                0\n",
       "12,617,850  1696636799979.0  0                   1                    6.01557  -2.20228  5.11882   2.266     22.12877     113.2789   -2.20228  5.51594   0.9547    9.1317       111.76468  0                0                          0                       0            0                           0                        0                0\n",
       "12,617,851  1696636799999.0  0                   1                    6.01862  -2.19439  5.13059   2.25511   22.00513     113.15672  -2.19439  5.52471   0.94128   8.99765      111.6627   0                0                          0                       0            0                           0                        0                0"
      ]
     },
     "execution_count": 21,
     "metadata": {},
     "output_type": "execute_result"
    }
   ],
   "source": [
    "a"
   ]
  },
  {
   "cell_type": "code",
   "execution_count": 16,
   "metadata": {},
   "outputs": [],
   "source": [
    "b = glob.glob(\"../Level1-fc-CSV/*.csv\")\n",
    "\n",
    "df1 = vaex.open_many(b)"
   ]
  },
  {
   "cell_type": "code",
   "execution_count": 17,
   "metadata": {},
   "outputs": [
    {
     "name": "stderr",
     "output_type": "stream",
     "text": [
      "/home/harsh/anaconda3/envs/nasa/lib/python3.10/site-packages/vaex/hdf5/writer.py:261: RuntimeWarning: invalid value encountered in cast\n",
      "  self.to_array[target_set_item] = values\n"
     ]
    }
   ],
   "source": [
    "df1.export_hdf5(\"../Dataset/final_fc.hdf5\")"
   ]
  },
  {
   "cell_type": "code",
   "execution_count": 18,
   "metadata": {},
   "outputs": [
    {
     "data": {
      "text/html": [
       "<table>\n",
       "<thead>\n",
       "<tr><th>#                                 </th><th>time           </th><th>proton_vx_gse  </th><th>proton_vy_gse  </th><th>proton_vz_gse  </th><th>proton_vx_gsm  </th><th>proton_vy_gsm  </th><th>proton_vz_gsm  </th><th>proton_speed  </th><th>proton_density  </th><th>proton_temperature  </th><th>alpha_vx_gse  </th><th>alpha_vy_gse  </th><th>alpha_vz_gse  </th><th>alpha_vx_gsm  </th><th>alpha_vy_gsm  </th><th>alpha_vz_gsm  </th><th>alpha_speed  </th><th>alpha_density  </th><th>alpha_temperature  </th><th>backfill_flag  </th><th>future_packet_time_flag  </th><th>old_packet_time_flag  </th><th>fill_flag  </th><th>normal_mode_flag  </th><th>proton_peak_unresolved_flag  </th><th>proton_alpha_confusion_flag  </th><th>proton_out_of_range_high_flag  </th><th>proton_out_of_range_low_flag  </th><th>proton_out_of_range_unknown_flag  </th><th>proton_peak_unbounded_flag  </th><th>alpha_peak_unresolved_flag  </th><th>alpha_proton_confusion_flag  </th><th>alpha_out_of_range_high_flag  </th><th>alpha_out_of_range_unknown_flag  </th><th>alpha_peak_unbounded_flag  </th><th>alpha_position_low_flag  </th><th>alpha_position_high_flag  </th><th>alpha_peak_height_flag  </th><th>possible_second_proton_peak_flag  </th><th>large_flow_angle_flag  </th><th>unexpected_peak_location_right_flag  </th><th>unexpected_peak_location_left_flag  </th><th>proton_peak_loss_flag  </th><th>calibration_mode_flag  </th><th>maneuver_flag  </th><th>reduced_proton_quality_flag  </th><th>alpha_peak_loss_flag  </th><th>reduced_alpha_quality_flag  </th><th>bad_proton_speed_flag  </th><th>bad_proton_density_flag  </th><th>bad_proton_temperature_flag  </th><th>bad_proton_vx_gse_flag  </th><th>bad_proton_vy_gse_flag  </th><th>bad_proton_vz_gse_flag  </th><th>bad_proton_vx_gsm_flag  </th><th>bad_proton_proton_vy_gsm_flag  </th><th>bad_vz_gsm_flag  </th><th>bad_alpha_speed_flag  </th><th>bad_alpha_density_flag  </th><th>bad_alpha_temperature_flag  </th><th>bad_alpha_vx_gse_flag  </th><th>bad_alpha_vy_gse_flag  </th><th>bad_alpha_vz_gse_flag  </th><th>bad_alpha_vx_gsm_flag  </th><th>bad_alpha_vy_gsm_flag  </th><th>bad_alpha_vz_gsm_flag  </th></tr>\n",
       "</thead>\n",
       "<tbody>\n",
       "<tr><td><i style='opacity: 0.6'>0</i>     </td><td>1696377600527.0</td><td>-390.2         </td><td>-8.5           </td><td>-7.0           </td><td>-390.2         </td><td>-10.0          </td><td>-4.6           </td><td>390.4         </td><td>3.06            </td><td>130591.0            </td><td>--            </td><td>--            </td><td>--            </td><td>--            </td><td>--            </td><td>--            </td><td>--           </td><td>--             </td><td>--                 </td><td>0              </td><td>0                        </td><td>0                     </td><td>0          </td><td>0                 </td><td>0                            </td><td>0                            </td><td>0                              </td><td>0                             </td><td>0                                 </td><td>0                           </td><td>0                           </td><td>0                            </td><td>0                             </td><td>0                                </td><td>0                          </td><td>0                        </td><td>0                         </td><td>0                       </td><td>0                                 </td><td>1                      </td><td>0                                    </td><td>0                                   </td><td>0                      </td><td>0                      </td><td>0              </td><td>1                            </td><td>0                     </td><td>0                           </td><td>0                      </td><td>0                        </td><td>0                            </td><td>0                       </td><td>0                       </td><td>0                       </td><td>0                       </td><td>0                              </td><td>0                </td><td>0                     </td><td>0                       </td><td>0                           </td><td>0                      </td><td>0                      </td><td>0                      </td><td>0                      </td><td>0                      </td><td>0                      </td></tr>\n",
       "<tr><td><i style='opacity: 0.6'>1</i>     </td><td>1696377605799.0</td><td>-392.7         </td><td>-8.6           </td><td>-7.0           </td><td>-392.7         </td><td>-10.1          </td><td>-4.7           </td><td>392.9         </td><td>3.15            </td><td>129844.0            </td><td>--            </td><td>--            </td><td>--            </td><td>--            </td><td>--            </td><td>--            </td><td>--           </td><td>--             </td><td>--                 </td><td>0              </td><td>0                        </td><td>0                     </td><td>0          </td><td>0                 </td><td>0                            </td><td>0                            </td><td>0                              </td><td>0                             </td><td>0                                 </td><td>0                           </td><td>0                           </td><td>0                            </td><td>0                             </td><td>0                                </td><td>0                          </td><td>0                        </td><td>0                         </td><td>0                       </td><td>0                                 </td><td>1                      </td><td>1                                    </td><td>0                                   </td><td>0                      </td><td>0                      </td><td>0              </td><td>1                            </td><td>0                     </td><td>0                           </td><td>0                      </td><td>0                        </td><td>0                            </td><td>0                       </td><td>0                       </td><td>0                       </td><td>0                       </td><td>0                              </td><td>0                </td><td>0                     </td><td>0                       </td><td>0                           </td><td>0                      </td><td>0                      </td><td>0                      </td><td>0                      </td><td>0                      </td><td>0                      </td></tr>\n",
       "<tr><td><i style='opacity: 0.6'>2</i>     </td><td>1696377611070.0</td><td>-390.9         </td><td>-8.6           </td><td>-7.0           </td><td>-390.9         </td><td>-10.0          </td><td>-4.7           </td><td>391.1         </td><td>3.17            </td><td>135090.0            </td><td>--            </td><td>--            </td><td>--            </td><td>--            </td><td>--            </td><td>--            </td><td>--           </td><td>--             </td><td>--                 </td><td>0              </td><td>0                        </td><td>0                     </td><td>0          </td><td>0                 </td><td>0                            </td><td>0                            </td><td>0                              </td><td>0                             </td><td>0                                 </td><td>0                           </td><td>0                           </td><td>0                            </td><td>0                             </td><td>0                                </td><td>0                          </td><td>0                        </td><td>0                         </td><td>0                       </td><td>0                                 </td><td>1                      </td><td>1                                    </td><td>0                                   </td><td>0                      </td><td>0                      </td><td>0              </td><td>1                            </td><td>0                     </td><td>0                           </td><td>0                      </td><td>0                        </td><td>0                            </td><td>0                       </td><td>0                       </td><td>0                       </td><td>0                       </td><td>0                              </td><td>0                </td><td>0                     </td><td>0                       </td><td>0                           </td><td>0                      </td><td>0                      </td><td>0                      </td><td>0                      </td><td>0                      </td><td>0                      </td></tr>\n",
       "<tr><td><i style='opacity: 0.6'>3</i>     </td><td>1696377616342.0</td><td>-386.6         </td><td>-123.4         </td><td>1.2            </td><td>-386.6         </td><td>-119.3         </td><td>31.6           </td><td>405.9         </td><td>3.37            </td><td>123702.0            </td><td>--            </td><td>--            </td><td>--            </td><td>--            </td><td>--            </td><td>--            </td><td>--           </td><td>--             </td><td>--                 </td><td>0              </td><td>0                        </td><td>0                     </td><td>0          </td><td>0                 </td><td>0                            </td><td>0                            </td><td>0                              </td><td>0                             </td><td>0                                 </td><td>0                           </td><td>0                           </td><td>0                            </td><td>0                             </td><td>0                                </td><td>0                          </td><td>0                        </td><td>0                         </td><td>0                       </td><td>0                                 </td><td>0                      </td><td>1                                    </td><td>0                                   </td><td>0                      </td><td>0                      </td><td>0              </td><td>1                            </td><td>0                     </td><td>0                           </td><td>0                      </td><td>0                        </td><td>0                            </td><td>0                       </td><td>0                       </td><td>0                       </td><td>0                       </td><td>0                              </td><td>0                </td><td>0                     </td><td>0                       </td><td>0                           </td><td>0                      </td><td>0                      </td><td>0                      </td><td>0                      </td><td>0                      </td><td>0                      </td></tr>\n",
       "<tr><td><i style='opacity: 0.6'>4</i>     </td><td>1696377621613.0</td><td>-385.4         </td><td>-109.7         </td><td>-9.3           </td><td>-385.4         </td><td>-108.6         </td><td>18.1           </td><td>400.8         </td><td>3.6             </td><td>119270.0            </td><td>--            </td><td>--            </td><td>--            </td><td>--            </td><td>--            </td><td>--            </td><td>--           </td><td>--             </td><td>--                 </td><td>0              </td><td>0                        </td><td>0                     </td><td>0          </td><td>0                 </td><td>0                            </td><td>0                            </td><td>0                              </td><td>0                             </td><td>0                                 </td><td>0                           </td><td>0                           </td><td>0                            </td><td>0                             </td><td>0                                </td><td>0                          </td><td>0                        </td><td>0                         </td><td>0                       </td><td>0                                 </td><td>0                      </td><td>0                                    </td><td>0                                   </td><td>0                      </td><td>0                      </td><td>0              </td><td>0                            </td><td>0                     </td><td>0                           </td><td>0                      </td><td>0                        </td><td>0                            </td><td>0                       </td><td>0                       </td><td>0                       </td><td>0                       </td><td>0                              </td><td>0                </td><td>0                     </td><td>0                       </td><td>0                           </td><td>0                      </td><td>0                      </td><td>0                      </td><td>0                      </td><td>0                      </td><td>0                      </td></tr>\n",
       "<tr><td>...                               </td><td>...            </td><td>...            </td><td>...            </td><td>...            </td><td>...            </td><td>...            </td><td>...            </td><td>...           </td><td>...             </td><td>...                 </td><td>...           </td><td>...           </td><td>...           </td><td>...           </td><td>...           </td><td>...           </td><td>...          </td><td>...            </td><td>...                </td><td>...            </td><td>...                      </td><td>...                   </td><td>...        </td><td>...               </td><td>...                          </td><td>...                          </td><td>...                            </td><td>...                           </td><td>...                               </td><td>...                         </td><td>...                         </td><td>...                          </td><td>...                           </td><td>...                              </td><td>...                        </td><td>...                      </td><td>...                       </td><td>...                     </td><td>...                               </td><td>...                    </td><td>...                                  </td><td>...                                 </td><td>...                    </td><td>...                    </td><td>...            </td><td>...                          </td><td>...                   </td><td>...                         </td><td>...                    </td><td>...                      </td><td>...                          </td><td>...                     </td><td>...                     </td><td>...                     </td><td>...                     </td><td>...                            </td><td>...              </td><td>...                   </td><td>...                     </td><td>...                         </td><td>...                    </td><td>...                    </td><td>...                    </td><td>...                    </td><td>...                    </td><td>...                    </td></tr>\n",
       "<tr><td><i style='opacity: 0.6'>41,020</i></td><td>1696636768148.0</td><td>-371.7         </td><td>35.9           </td><td>-1.7           </td><td>-371.7         </td><td>34.4           </td><td>-10.4          </td><td>373.4         </td><td>4.36            </td><td>13846.0             </td><td>--            </td><td>--            </td><td>--            </td><td>--            </td><td>--            </td><td>--            </td><td>--           </td><td>--             </td><td>--                 </td><td>0              </td><td>0                        </td><td>0                     </td><td>0          </td><td>0                 </td><td>0                            </td><td>0                            </td><td>0                              </td><td>0                             </td><td>0                                 </td><td>0                           </td><td>0                           </td><td>0                            </td><td>0                             </td><td>0                                </td><td>0                          </td><td>0                        </td><td>0                         </td><td>0                       </td><td>0                                 </td><td>0                      </td><td>0                                    </td><td>0                                   </td><td>0                      </td><td>0                      </td><td>0              </td><td>0                            </td><td>0                     </td><td>0                           </td><td>0                      </td><td>0                        </td><td>0                            </td><td>0                       </td><td>0                       </td><td>0                       </td><td>0                       </td><td>0                              </td><td>0                </td><td>0                     </td><td>0                       </td><td>0                           </td><td>0                      </td><td>0                      </td><td>0                      </td><td>0                      </td><td>0                      </td><td>0                      </td></tr>\n",
       "<tr><td><i style='opacity: 0.6'>41,021</i></td><td>1696636779039.0</td><td>-371.3         </td><td>39.0           </td><td>2.1            </td><td>-371.3         </td><td>38.4           </td><td>-7.4           </td><td>373.4         </td><td>4.35            </td><td>13609.0             </td><td>--            </td><td>--            </td><td>--            </td><td>--            </td><td>--            </td><td>--            </td><td>--           </td><td>--             </td><td>--                 </td><td>0              </td><td>0                        </td><td>0                     </td><td>0          </td><td>0                 </td><td>0                            </td><td>0                            </td><td>0                              </td><td>0                             </td><td>0                                 </td><td>0                           </td><td>0                           </td><td>0                            </td><td>0                             </td><td>0                                </td><td>0                          </td><td>0                        </td><td>0                         </td><td>0                       </td><td>0                                 </td><td>0                      </td><td>0                                    </td><td>0                                   </td><td>0                      </td><td>0                      </td><td>0              </td><td>0                            </td><td>0                     </td><td>0                           </td><td>0                      </td><td>0                        </td><td>0                            </td><td>0                       </td><td>0                       </td><td>0                       </td><td>0                       </td><td>0                              </td><td>0                </td><td>0                     </td><td>0                       </td><td>0                           </td><td>0                      </td><td>0                      </td><td>0                      </td><td>0                      </td><td>0                      </td><td>0                      </td></tr>\n",
       "<tr><td><i style='opacity: 0.6'>41,022</i></td><td>1696636784484.0</td><td>-371.2         </td><td>39.7           </td><td>0.0            </td><td>-371.2         </td><td>38.5           </td><td>-9.7           </td><td>373.3         </td><td>4.25            </td><td>13363.0             </td><td>--            </td><td>--            </td><td>--            </td><td>--            </td><td>--            </td><td>--            </td><td>--           </td><td>--             </td><td>--                 </td><td>0              </td><td>0                        </td><td>0                     </td><td>0          </td><td>0                 </td><td>0                            </td><td>0                            </td><td>0                              </td><td>0                             </td><td>0                                 </td><td>0                           </td><td>0                           </td><td>0                            </td><td>0                             </td><td>0                                </td><td>0                          </td><td>0                        </td><td>0                         </td><td>0                       </td><td>0                                 </td><td>0                      </td><td>0                                    </td><td>0                                   </td><td>0                      </td><td>0                      </td><td>0              </td><td>0                            </td><td>0                     </td><td>0                           </td><td>0                      </td><td>0                        </td><td>0                            </td><td>0                       </td><td>0                       </td><td>0                       </td><td>0                       </td><td>0                              </td><td>0                </td><td>0                     </td><td>0                       </td><td>0                           </td><td>0                      </td><td>0                      </td><td>0                      </td><td>0                      </td><td>0                      </td><td>0                      </td></tr>\n",
       "<tr><td><i style='opacity: 0.6'>41,023</i></td><td>1696636789934.0</td><td>-370.7         </td><td>34.4           </td><td>0.5            </td><td>-370.7         </td><td>33.5           </td><td>-7.9           </td><td>372.3         </td><td>4.47            </td><td>13553.0             </td><td>--            </td><td>--            </td><td>--            </td><td>--            </td><td>--            </td><td>--            </td><td>--           </td><td>--             </td><td>--                 </td><td>0              </td><td>0                        </td><td>0                     </td><td>0          </td><td>0                 </td><td>0                            </td><td>0                            </td><td>0                              </td><td>0                             </td><td>0                                 </td><td>0                           </td><td>0                           </td><td>0                            </td><td>0                             </td><td>0                                </td><td>0                          </td><td>0                        </td><td>0                         </td><td>0                       </td><td>0                                 </td><td>0                      </td><td>0                                    </td><td>0                                   </td><td>0                      </td><td>0                      </td><td>0              </td><td>0                            </td><td>0                     </td><td>0                           </td><td>0                      </td><td>0                        </td><td>0                            </td><td>0                       </td><td>0                       </td><td>0                       </td><td>0                       </td><td>0                              </td><td>0                </td><td>0                     </td><td>0                       </td><td>0                           </td><td>0                      </td><td>0                      </td><td>0                      </td><td>0                      </td><td>0                      </td><td>0                      </td></tr>\n",
       "<tr><td><i style='opacity: 0.6'>41,024</i></td><td>1696636795384.0</td><td>-371.0         </td><td>35.9           </td><td>0.2            </td><td>-371.0         </td><td>34.9           </td><td>-8.5           </td><td>372.8         </td><td>4.5             </td><td>13706.0             </td><td>--            </td><td>--            </td><td>--            </td><td>--            </td><td>--            </td><td>--            </td><td>--           </td><td>--             </td><td>--                 </td><td>0              </td><td>0                        </td><td>0                     </td><td>0          </td><td>0                 </td><td>0                            </td><td>0                            </td><td>0                              </td><td>0                             </td><td>0                                 </td><td>0                           </td><td>0                           </td><td>0                            </td><td>0                             </td><td>0                                </td><td>0                          </td><td>0                        </td><td>0                         </td><td>0                       </td><td>0                                 </td><td>0                      </td><td>0                                    </td><td>0                                   </td><td>0                      </td><td>0                      </td><td>0              </td><td>0                            </td><td>0                     </td><td>0                           </td><td>0                      </td><td>0                        </td><td>0                            </td><td>0                       </td><td>0                       </td><td>0                       </td><td>0                       </td><td>0                              </td><td>0                </td><td>0                     </td><td>0                       </td><td>0                           </td><td>0                      </td><td>0                      </td><td>0                      </td><td>0                      </td><td>0                      </td><td>0                      </td></tr>\n",
       "</tbody>\n",
       "</table>"
      ],
      "text/plain": [
       "#       time             proton_vx_gse    proton_vy_gse    proton_vz_gse    proton_vx_gsm    proton_vy_gsm    proton_vz_gsm    proton_speed    proton_density    proton_temperature    alpha_vx_gse    alpha_vy_gse    alpha_vz_gse    alpha_vx_gsm    alpha_vy_gsm    alpha_vz_gsm    alpha_speed    alpha_density    alpha_temperature    backfill_flag    future_packet_time_flag    old_packet_time_flag    fill_flag    normal_mode_flag    proton_peak_unresolved_flag    proton_alpha_confusion_flag    proton_out_of_range_high_flag    proton_out_of_range_low_flag    proton_out_of_range_unknown_flag    proton_peak_unbounded_flag    alpha_peak_unresolved_flag    alpha_proton_confusion_flag    alpha_out_of_range_high_flag    alpha_out_of_range_unknown_flag    alpha_peak_unbounded_flag    alpha_position_low_flag    alpha_position_high_flag    alpha_peak_height_flag    possible_second_proton_peak_flag    large_flow_angle_flag    unexpected_peak_location_right_flag    unexpected_peak_location_left_flag    proton_peak_loss_flag    calibration_mode_flag    maneuver_flag    reduced_proton_quality_flag    alpha_peak_loss_flag    reduced_alpha_quality_flag    bad_proton_speed_flag    bad_proton_density_flag    bad_proton_temperature_flag    bad_proton_vx_gse_flag    bad_proton_vy_gse_flag    bad_proton_vz_gse_flag    bad_proton_vx_gsm_flag    bad_proton_proton_vy_gsm_flag    bad_vz_gsm_flag    bad_alpha_speed_flag    bad_alpha_density_flag    bad_alpha_temperature_flag    bad_alpha_vx_gse_flag    bad_alpha_vy_gse_flag    bad_alpha_vz_gse_flag    bad_alpha_vx_gsm_flag    bad_alpha_vy_gsm_flag    bad_alpha_vz_gsm_flag\n",
       "0       1696377600527.0  -390.2           -8.5             -7.0             -390.2           -10.0            -4.6             390.4           3.06              130591.0              --              --              --              --              --              --              --             --               --                   0                0                          0                       0            0                   0                              0                              0                                0                               0                                   0                             0                             0                              0                               0                                  0                            0                          0                           0                         0                                   1                        0                                      0                                     0                        0                        0                1                              0                       0                             0                        0                          0                              0                         0                         0                         0                         0                                0                  0                       0                         0                             0                        0                        0                        0                        0                        0\n",
       "1       1696377605799.0  -392.7           -8.6             -7.0             -392.7           -10.1            -4.7             392.9           3.15              129844.0              --              --              --              --              --              --              --             --               --                   0                0                          0                       0            0                   0                              0                              0                                0                               0                                   0                             0                             0                              0                               0                                  0                            0                          0                           0                         0                                   1                        1                                      0                                     0                        0                        0                1                              0                       0                             0                        0                          0                              0                         0                         0                         0                         0                                0                  0                       0                         0                             0                        0                        0                        0                        0                        0\n",
       "2       1696377611070.0  -390.9           -8.6             -7.0             -390.9           -10.0            -4.7             391.1           3.17              135090.0              --              --              --              --              --              --              --             --               --                   0                0                          0                       0            0                   0                              0                              0                                0                               0                                   0                             0                             0                              0                               0                                  0                            0                          0                           0                         0                                   1                        1                                      0                                     0                        0                        0                1                              0                       0                             0                        0                          0                              0                         0                         0                         0                         0                                0                  0                       0                         0                             0                        0                        0                        0                        0                        0\n",
       "3       1696377616342.0  -386.6           -123.4           1.2              -386.6           -119.3           31.6             405.9           3.37              123702.0              --              --              --              --              --              --              --             --               --                   0                0                          0                       0            0                   0                              0                              0                                0                               0                                   0                             0                             0                              0                               0                                  0                            0                          0                           0                         0                                   0                        1                                      0                                     0                        0                        0                1                              0                       0                             0                        0                          0                              0                         0                         0                         0                         0                                0                  0                       0                         0                             0                        0                        0                        0                        0                        0\n",
       "4       1696377621613.0  -385.4           -109.7           -9.3             -385.4           -108.6           18.1             400.8           3.6               119270.0              --              --              --              --              --              --              --             --               --                   0                0                          0                       0            0                   0                              0                              0                                0                               0                                   0                             0                             0                              0                               0                                  0                            0                          0                           0                         0                                   0                        0                                      0                                     0                        0                        0                0                              0                       0                             0                        0                          0                              0                         0                         0                         0                         0                                0                  0                       0                         0                             0                        0                        0                        0                        0                        0\n",
       "...     ...              ...              ...              ...              ...              ...              ...              ...             ...               ...                   ...             ...             ...             ...             ...             ...             ...            ...              ...                  ...              ...                        ...                     ...          ...                 ...                            ...                            ...                              ...                             ...                                 ...                           ...                           ...                            ...                             ...                                ...                          ...                        ...                         ...                       ...                                 ...                      ...                                    ...                                   ...                      ...                      ...              ...                            ...                     ...                           ...                      ...                        ...                            ...                       ...                       ...                       ...                       ...                              ...                ...                     ...                       ...                           ...                      ...                      ...                      ...                      ...                      ...\n",
       "41,020  1696636768148.0  -371.7           35.9             -1.7             -371.7           34.4             -10.4            373.4           4.36              13846.0               --              --              --              --              --              --              --             --               --                   0                0                          0                       0            0                   0                              0                              0                                0                               0                                   0                             0                             0                              0                               0                                  0                            0                          0                           0                         0                                   0                        0                                      0                                     0                        0                        0                0                              0                       0                             0                        0                          0                              0                         0                         0                         0                         0                                0                  0                       0                         0                             0                        0                        0                        0                        0                        0\n",
       "41,021  1696636779039.0  -371.3           39.0             2.1              -371.3           38.4             -7.4             373.4           4.35              13609.0               --              --              --              --              --              --              --             --               --                   0                0                          0                       0            0                   0                              0                              0                                0                               0                                   0                             0                             0                              0                               0                                  0                            0                          0                           0                         0                                   0                        0                                      0                                     0                        0                        0                0                              0                       0                             0                        0                          0                              0                         0                         0                         0                         0                                0                  0                       0                         0                             0                        0                        0                        0                        0                        0\n",
       "41,022  1696636784484.0  -371.2           39.7             0.0              -371.2           38.5             -9.7             373.3           4.25              13363.0               --              --              --              --              --              --              --             --               --                   0                0                          0                       0            0                   0                              0                              0                                0                               0                                   0                             0                             0                              0                               0                                  0                            0                          0                           0                         0                                   0                        0                                      0                                     0                        0                        0                0                              0                       0                             0                        0                          0                              0                         0                         0                         0                         0                                0                  0                       0                         0                             0                        0                        0                        0                        0                        0\n",
       "41,023  1696636789934.0  -370.7           34.4             0.5              -370.7           33.5             -7.9             372.3           4.47              13553.0               --              --              --              --              --              --              --             --               --                   0                0                          0                       0            0                   0                              0                              0                                0                               0                                   0                             0                             0                              0                               0                                  0                            0                          0                           0                         0                                   0                        0                                      0                                     0                        0                        0                0                              0                       0                             0                        0                          0                              0                         0                         0                         0                         0                                0                  0                       0                         0                             0                        0                        0                        0                        0                        0\n",
       "41,024  1696636795384.0  -371.0           35.9             0.2              -371.0           34.9             -8.5             372.8           4.5               13706.0               --              --              --              --              --              --              --             --               --                   0                0                          0                       0            0                   0                              0                              0                                0                               0                                   0                             0                             0                              0                               0                                  0                            0                          0                           0                         0                                   0                        0                                      0                                     0                        0                        0                0                              0                       0                             0                        0                          0                              0                         0                         0                         0                         0                                0                  0                       0                         0                             0                        0                        0                        0                        0                        0"
      ]
     },
     "execution_count": 18,
     "metadata": {},
     "output_type": "execute_result"
    }
   ],
   "source": [
    "c= vaex.open(\"../Dataset/final_fc.hdf5\")\n",
    "\n",
    "c"
   ]
  },
  {
   "cell_type": "code",
   "execution_count": 19,
   "metadata": {},
   "outputs": [],
   "source": [
    "a =None\n",
    "b=None\n",
    "c=None\n",
    "df=None\n",
    "df1=None"
   ]
  },
  {
   "cell_type": "code",
   "execution_count": 22,
   "metadata": {},
   "outputs": [
    {
     "data": {
      "text/plain": [
       "Expression = time\n",
       "Length: 12,617,852 dtype: float64 (column)\n",
       "------------------------------------------\n",
       "       0  1.69646e+12\n",
       "       1  1.69646e+12\n",
       "       2  1.69646e+12\n",
       "       3  1.69646e+12\n",
       "       4  1.69646e+12\n",
       "         ...         \n",
       "12617847  1.69664e+12\n",
       "12617848  1.69664e+12\n",
       "12617849  1.69664e+12\n",
       "12617850  1.69664e+12\n",
       "12617851  1.69664e+12"
      ]
     },
     "execution_count": 22,
     "metadata": {},
     "output_type": "execute_result"
    }
   ],
   "source": []
  },
  {
   "cell_type": "code",
   "execution_count": 24,
   "metadata": {},
   "outputs": [],
   "source": [
    "c = vaex.open(\"../Level1-mg-CSV/oe_mg1_dscovr_s20231004000000_e20231004235959_p20231005013851_pub.csv\")"
   ]
  },
  {
   "cell_type": "code",
   "execution_count": 25,
   "metadata": {},
   "outputs": [
    {
     "data": {
      "text/html": [
       "<table>\n",
       "<thead>\n",
       "<tr><th>#                                    </th><th>time           </th><th>measurement_mode  </th><th>measurement_range  </th><th>bt     </th><th>bx_gse  </th><th>by_gse  </th><th>bz_gse  </th><th>theta_gse  </th><th>phi_gse  </th><th>bx_gsm  </th><th>by_gsm  </th><th>bz_gsm  </th><th>theta_gsm  </th><th>phi_gsm  </th><th>backfill_flag  </th><th>future_packet_time_flag  </th><th>old_packet_time_flag  </th><th>fill_flag  </th><th>possible_saturation_flag  </th><th>calibration_mode_flag  </th><th>maneuver_flag  </th><th>low_sample_count_flag  </th></tr>\n",
       "</thead>\n",
       "<tbody>\n",
       "<tr><td><i style='opacity: 0.6'>0</i>        </td><td>1696377600019.0</td><td>0                 </td><td>1                  </td><td>8.2576 </td><td>-7.2661 </td><td>3.8673  </td><td>-0.66013</td><td>-4.58522   </td><td>151.97633</td><td>-7.2661 </td><td>3.58453 </td><td>-1.59467</td><td>-11.13463  </td><td>153.74187</td><td>0              </td><td>0                        </td><td>0                     </td><td>0          </td><td>0                         </td><td>0                      </td><td>0              </td><td>0                      </td></tr>\n",
       "<tr><td><i style='opacity: 0.6'>1</i>        </td><td>1696377600039.0</td><td>0                 </td><td>1                  </td><td>8.31271</td><td>-7.32046</td><td>3.88709 </td><td>-0.6344 </td><td>-4.37691   </td><td>152.03217</td><td>-7.32046</td><td>3.61005 </td><td>-1.57462</td><td>-10.91916  </td><td>153.74998</td><td>0              </td><td>0                        </td><td>0                     </td><td>0          </td><td>0                         </td><td>0                      </td><td>0              </td><td>0                      </td></tr>\n",
       "<tr><td><i style='opacity: 0.6'>2</i>        </td><td>1696377600059.0</td><td>0                 </td><td>1                  </td><td>8.30744</td><td>-7.33629</td><td>3.84153 </td><td>-0.65969</td><td>-4.55464   </td><td>152.36194</td><td>-7.33629</td><td>3.55966 </td><td>-1.58788</td><td>-11.01928  </td><td>154.11678</td><td>0              </td><td>0                        </td><td>0                     </td><td>0          </td><td>0                         </td><td>0                      </td><td>0              </td><td>0                      </td></tr>\n",
       "<tr><td><i style='opacity: 0.6'>3</i>        </td><td>1696377600079.0</td><td>0                 </td><td>1                  </td><td>8.3289 </td><td>-7.33255</td><td>3.89093 </td><td>-0.68188</td><td>-4.69599   </td><td>152.04788</td><td>-7.33255</td><td>3.60205 </td><td>-1.62158</td><td>-11.22678  </td><td>153.83781</td><td>0              </td><td>0                        </td><td>0                     </td><td>0          </td><td>0                         </td><td>0                      </td><td>0              </td><td>0                      </td></tr>\n",
       "<tr><td><i style='opacity: 0.6'>4</i>        </td><td>1696377600099.0</td><td>0                 </td><td>1                  </td><td>8.25847</td><td>-7.2674 </td><td>3.8686  </td><td>-0.64901</td><td>-4.50737   </td><td>151.97263</td><td>-7.2674 </td><td>3.58853 </td><td>-1.58422</td><td>-11.05955  </td><td>153.72057</td><td>0              </td><td>0                        </td><td>0                     </td><td>0          </td><td>0                         </td><td>0                      </td><td>0              </td><td>0                      </td></tr>\n",
       "<tr><td>...                                  </td><td>...            </td><td>...               </td><td>...                </td><td>...    </td><td>...     </td><td>...     </td><td>...     </td><td>...        </td><td>...      </td><td>...     </td><td>...     </td><td>...     </td><td>...        </td><td>...      </td><td>...            </td><td>...                      </td><td>...                   </td><td>...        </td><td>...                       </td><td>...                    </td><td>...            </td><td>...                    </td></tr>\n",
       "<tr><td><i style='opacity: 0.6'>4,206,180</i></td><td>1696463998999.0</td><td>0                 </td><td>1                  </td><td>7.41248</td><td>-2.97733</td><td>-0.00788</td><td>-6.78824</td><td>-66.31762  </td><td>180.15163</td><td>-2.97733</td><td>-1.67555</td><td>-6.57821</td><td>-62.55466  </td><td>209.3695 </td><td>0              </td><td>0                        </td><td>0                     </td><td>0          </td><td>0                         </td><td>0                      </td><td>0              </td><td>0                      </td></tr>\n",
       "<tr><td><i style='opacity: 0.6'>4,206,181</i></td><td>1696463999019.0</td><td>0                 </td><td>1                  </td><td>7.4348 </td><td>-2.91122</td><td>-0.0342 </td><td>-6.84105</td><td>-66.94632  </td><td>180.67302</td><td>-2.91122</td><td>-1.71404</td><td>-6.62293</td><td>-62.97404  </td><td>210.48831</td><td>0              </td><td>0                        </td><td>0                     </td><td>0          </td><td>0                         </td><td>0                      </td><td>0              </td><td>0                      </td></tr>\n",
       "<tr><td><i style='opacity: 0.6'>4,206,182</i></td><td>1696463999039.0</td><td>0                 </td><td>1                  </td><td>7.45241</td><td>-2.92611</td><td>0.08907 </td><td>-6.85335</td><td>-66.86984  </td><td>178.25653</td><td>-2.92611</td><td>-1.59758</td><td>-6.66514</td><td>-63.42633  </td><td>208.63332</td><td>0              </td><td>0                        </td><td>0                     </td><td>0          </td><td>0                         </td><td>0                      </td><td>0              </td><td>0                      </td></tr>\n",
       "<tr><td><i style='opacity: 0.6'>4,206,183</i></td><td>1696463999059.0</td><td>0                 </td><td>1                  </td><td>7.52263</td><td>-2.96612</td><td>0.06653 </td><td>-6.91287</td><td>-66.77195  </td><td>178.71506</td><td>-2.96612</td><td>-1.63404</td><td>-6.71729</td><td>-63.24563  </td><td>208.85051</td><td>0              </td><td>0                        </td><td>0                     </td><td>0          </td><td>0                         </td><td>0                      </td><td>0              </td><td>0                      </td></tr>\n",
       "<tr><td><i style='opacity: 0.6'>4,206,184</i></td><td>1696463999079.0</td><td>0                 </td><td>1                  </td><td>7.60975</td><td>-2.99062</td><td>0.19282 </td><td>-6.9948 </td><td>-66.80795  </td><td>176.31096</td><td>-2.99062</td><td>-1.53176</td><td>-6.82775</td><td>-63.79727  </td><td>207.121  </td><td>0              </td><td>0                        </td><td>0                     </td><td>0          </td><td>0                         </td><td>0                      </td><td>0              </td><td>0                      </td></tr>\n",
       "</tbody>\n",
       "</table>"
      ],
      "text/plain": [
       "#          time             measurement_mode    measurement_range    bt       bx_gse    by_gse    bz_gse    theta_gse    phi_gse    bx_gsm    by_gsm    bz_gsm    theta_gsm    phi_gsm    backfill_flag    future_packet_time_flag    old_packet_time_flag    fill_flag    possible_saturation_flag    calibration_mode_flag    maneuver_flag    low_sample_count_flag\n",
       "0          1696377600019.0  0                   1                    8.2576   -7.2661   3.8673    -0.66013  -4.58522     151.97633  -7.2661   3.58453   -1.59467  -11.13463    153.74187  0                0                          0                       0            0                           0                        0                0\n",
       "1          1696377600039.0  0                   1                    8.31271  -7.32046  3.88709   -0.6344   -4.37691     152.03217  -7.32046  3.61005   -1.57462  -10.91916    153.74998  0                0                          0                       0            0                           0                        0                0\n",
       "2          1696377600059.0  0                   1                    8.30744  -7.33629  3.84153   -0.65969  -4.55464     152.36194  -7.33629  3.55966   -1.58788  -11.01928    154.11678  0                0                          0                       0            0                           0                        0                0\n",
       "3          1696377600079.0  0                   1                    8.3289   -7.33255  3.89093   -0.68188  -4.69599     152.04788  -7.33255  3.60205   -1.62158  -11.22678    153.83781  0                0                          0                       0            0                           0                        0                0\n",
       "4          1696377600099.0  0                   1                    8.25847  -7.2674   3.8686    -0.64901  -4.50737     151.97263  -7.2674   3.58853   -1.58422  -11.05955    153.72057  0                0                          0                       0            0                           0                        0                0\n",
       "...        ...              ...                 ...                  ...      ...       ...       ...       ...          ...        ...       ...       ...       ...          ...        ...              ...                        ...                     ...          ...                         ...                      ...              ...\n",
       "4,206,180  1696463998999.0  0                   1                    7.41248  -2.97733  -0.00788  -6.78824  -66.31762    180.15163  -2.97733  -1.67555  -6.57821  -62.55466    209.3695   0                0                          0                       0            0                           0                        0                0\n",
       "4,206,181  1696463999019.0  0                   1                    7.4348   -2.91122  -0.0342   -6.84105  -66.94632    180.67302  -2.91122  -1.71404  -6.62293  -62.97404    210.48831  0                0                          0                       0            0                           0                        0                0\n",
       "4,206,182  1696463999039.0  0                   1                    7.45241  -2.92611  0.08907   -6.85335  -66.86984    178.25653  -2.92611  -1.59758  -6.66514  -63.42633    208.63332  0                0                          0                       0            0                           0                        0                0\n",
       "4,206,183  1696463999059.0  0                   1                    7.52263  -2.96612  0.06653   -6.91287  -66.77195    178.71506  -2.96612  -1.63404  -6.71729  -63.24563    208.85051  0                0                          0                       0            0                           0                        0                0\n",
       "4,206,184  1696463999079.0  0                   1                    7.60975  -2.99062  0.19282   -6.9948   -66.80795    176.31096  -2.99062  -1.53176  -6.82775  -63.79727    207.121    0                0                          0                       0            0                           0                        0                0"
      ]
     },
     "execution_count": 25,
     "metadata": {},
     "output_type": "execute_result"
    }
   ],
   "source": [
    "c"
   ]
  },
  {
   "cell_type": "code",
   "execution_count": 26,
   "metadata": {},
   "outputs": [],
   "source": [
    "d = vaex.open(\"../Level1-fc-CSV/oe_fc1_dscovr_s20231004000000_e20231004235959_p20231005022524_pub.csv\")"
   ]
  },
  {
   "cell_type": "code",
   "execution_count": 27,
   "metadata": {},
   "outputs": [
    {
     "data": {
      "text/html": [
       "<table>\n",
       "<thead>\n",
       "<tr><th>#                                 </th><th>time           </th><th>proton_vx_gse  </th><th>proton_vy_gse  </th><th>proton_vz_gse  </th><th>proton_vx_gsm  </th><th>proton_vy_gsm  </th><th>proton_vz_gsm  </th><th>proton_speed  </th><th>proton_density  </th><th>proton_temperature  </th><th>alpha_vx_gse  </th><th>alpha_vy_gse  </th><th>alpha_vz_gse  </th><th>alpha_vx_gsm  </th><th>alpha_vy_gsm  </th><th>alpha_vz_gsm  </th><th>alpha_speed  </th><th>alpha_density  </th><th>alpha_temperature  </th><th>backfill_flag  </th><th>future_packet_time_flag  </th><th>old_packet_time_flag  </th><th>fill_flag  </th><th>normal_mode_flag  </th><th>proton_peak_unresolved_flag  </th><th>proton_alpha_confusion_flag  </th><th>proton_out_of_range_high_flag  </th><th>proton_out_of_range_low_flag  </th><th>proton_out_of_range_unknown_flag  </th><th>proton_peak_unbounded_flag  </th><th>alpha_peak_unresolved_flag  </th><th>alpha_proton_confusion_flag  </th><th>alpha_out_of_range_high_flag  </th><th>alpha_out_of_range_unknown_flag  </th><th>alpha_peak_unbounded_flag  </th><th>alpha_position_low_flag  </th><th>alpha_position_high_flag  </th><th>alpha_peak_height_flag  </th><th>possible_second_proton_peak_flag  </th><th>large_flow_angle_flag  </th><th>unexpected_peak_location_right_flag  </th><th>unexpected_peak_location_left_flag  </th><th>proton_peak_loss_flag  </th><th>calibration_mode_flag  </th><th>maneuver_flag  </th><th>reduced_proton_quality_flag  </th><th>alpha_peak_loss_flag  </th><th>reduced_alpha_quality_flag  </th><th>bad_proton_speed_flag  </th><th>bad_proton_density_flag  </th><th>bad_proton_temperature_flag  </th><th>bad_proton_vx_gse_flag  </th><th>bad_proton_vy_gse_flag  </th><th>bad_proton_vz_gse_flag  </th><th>bad_proton_vx_gsm_flag  </th><th>bad_proton_proton_vy_gsm_flag  </th><th>bad_vz_gsm_flag  </th><th>bad_alpha_speed_flag  </th><th>bad_alpha_density_flag  </th><th>bad_alpha_temperature_flag  </th><th>bad_alpha_vx_gse_flag  </th><th>bad_alpha_vy_gse_flag  </th><th>bad_alpha_vz_gse_flag  </th><th>bad_alpha_vx_gsm_flag  </th><th>bad_alpha_vy_gsm_flag  </th><th>bad_alpha_vz_gsm_flag  </th></tr>\n",
       "</thead>\n",
       "<tbody>\n",
       "<tr><td><i style='opacity: 0.6'>0</i>     </td><td>1696377600527.0</td><td>-390.2         </td><td>-8.5           </td><td>-7.0           </td><td>-390.2         </td><td>-10.0          </td><td>-4.6           </td><td>390.4         </td><td>3.06            </td><td>130591.0            </td><td>--            </td><td>--            </td><td>--            </td><td>--            </td><td>--            </td><td>--            </td><td>--           </td><td>--             </td><td>--                 </td><td>0              </td><td>0                        </td><td>0                     </td><td>0          </td><td>0                 </td><td>0                            </td><td>0                            </td><td>0                              </td><td>0                             </td><td>0                                 </td><td>0                           </td><td>0                           </td><td>0                            </td><td>0                             </td><td>0                                </td><td>0                          </td><td>0                        </td><td>0                         </td><td>0                       </td><td>0                                 </td><td>1                      </td><td>0                                    </td><td>0                                   </td><td>0                      </td><td>0                      </td><td>0              </td><td>1                            </td><td>0                     </td><td>0                           </td><td>0                      </td><td>0                        </td><td>0                            </td><td>0                       </td><td>0                       </td><td>0                       </td><td>0                       </td><td>0                              </td><td>0                </td><td>0                     </td><td>0                       </td><td>0                           </td><td>0                      </td><td>0                      </td><td>0                      </td><td>0                      </td><td>0                      </td><td>0                      </td></tr>\n",
       "<tr><td><i style='opacity: 0.6'>1</i>     </td><td>1696377605799.0</td><td>-392.7         </td><td>-8.6           </td><td>-7.0           </td><td>-392.7         </td><td>-10.1          </td><td>-4.7           </td><td>392.9         </td><td>3.15            </td><td>129844.0            </td><td>--            </td><td>--            </td><td>--            </td><td>--            </td><td>--            </td><td>--            </td><td>--           </td><td>--             </td><td>--                 </td><td>0              </td><td>0                        </td><td>0                     </td><td>0          </td><td>0                 </td><td>0                            </td><td>0                            </td><td>0                              </td><td>0                             </td><td>0                                 </td><td>0                           </td><td>0                           </td><td>0                            </td><td>0                             </td><td>0                                </td><td>0                          </td><td>0                        </td><td>0                         </td><td>0                       </td><td>0                                 </td><td>1                      </td><td>1                                    </td><td>0                                   </td><td>0                      </td><td>0                      </td><td>0              </td><td>1                            </td><td>0                     </td><td>0                           </td><td>0                      </td><td>0                        </td><td>0                            </td><td>0                       </td><td>0                       </td><td>0                       </td><td>0                       </td><td>0                              </td><td>0                </td><td>0                     </td><td>0                       </td><td>0                           </td><td>0                      </td><td>0                      </td><td>0                      </td><td>0                      </td><td>0                      </td><td>0                      </td></tr>\n",
       "<tr><td><i style='opacity: 0.6'>2</i>     </td><td>1696377611070.0</td><td>-390.9         </td><td>-8.6           </td><td>-7.0           </td><td>-390.9         </td><td>-10.0          </td><td>-4.7           </td><td>391.1         </td><td>3.17            </td><td>135090.0            </td><td>--            </td><td>--            </td><td>--            </td><td>--            </td><td>--            </td><td>--            </td><td>--           </td><td>--             </td><td>--                 </td><td>0              </td><td>0                        </td><td>0                     </td><td>0          </td><td>0                 </td><td>0                            </td><td>0                            </td><td>0                              </td><td>0                             </td><td>0                                 </td><td>0                           </td><td>0                           </td><td>0                            </td><td>0                             </td><td>0                                </td><td>0                          </td><td>0                        </td><td>0                         </td><td>0                       </td><td>0                                 </td><td>1                      </td><td>1                                    </td><td>0                                   </td><td>0                      </td><td>0                      </td><td>0              </td><td>1                            </td><td>0                     </td><td>0                           </td><td>0                      </td><td>0                        </td><td>0                            </td><td>0                       </td><td>0                       </td><td>0                       </td><td>0                       </td><td>0                              </td><td>0                </td><td>0                     </td><td>0                       </td><td>0                           </td><td>0                      </td><td>0                      </td><td>0                      </td><td>0                      </td><td>0                      </td><td>0                      </td></tr>\n",
       "<tr><td><i style='opacity: 0.6'>3</i>     </td><td>1696377616342.0</td><td>-386.6         </td><td>-123.4         </td><td>1.2            </td><td>-386.6         </td><td>-119.3         </td><td>31.6           </td><td>405.9         </td><td>3.37            </td><td>123702.0            </td><td>--            </td><td>--            </td><td>--            </td><td>--            </td><td>--            </td><td>--            </td><td>--           </td><td>--             </td><td>--                 </td><td>0              </td><td>0                        </td><td>0                     </td><td>0          </td><td>0                 </td><td>0                            </td><td>0                            </td><td>0                              </td><td>0                             </td><td>0                                 </td><td>0                           </td><td>0                           </td><td>0                            </td><td>0                             </td><td>0                                </td><td>0                          </td><td>0                        </td><td>0                         </td><td>0                       </td><td>0                                 </td><td>0                      </td><td>1                                    </td><td>0                                   </td><td>0                      </td><td>0                      </td><td>0              </td><td>1                            </td><td>0                     </td><td>0                           </td><td>0                      </td><td>0                        </td><td>0                            </td><td>0                       </td><td>0                       </td><td>0                       </td><td>0                       </td><td>0                              </td><td>0                </td><td>0                     </td><td>0                       </td><td>0                           </td><td>0                      </td><td>0                      </td><td>0                      </td><td>0                      </td><td>0                      </td><td>0                      </td></tr>\n",
       "<tr><td><i style='opacity: 0.6'>4</i>     </td><td>1696377621613.0</td><td>-385.4         </td><td>-109.7         </td><td>-9.3           </td><td>-385.4         </td><td>-108.6         </td><td>18.1           </td><td>400.8         </td><td>3.6             </td><td>119270.0            </td><td>--            </td><td>--            </td><td>--            </td><td>--            </td><td>--            </td><td>--            </td><td>--           </td><td>--             </td><td>--                 </td><td>0              </td><td>0                        </td><td>0                     </td><td>0          </td><td>0                 </td><td>0                            </td><td>0                            </td><td>0                              </td><td>0                             </td><td>0                                 </td><td>0                           </td><td>0                           </td><td>0                            </td><td>0                             </td><td>0                                </td><td>0                          </td><td>0                        </td><td>0                         </td><td>0                       </td><td>0                                 </td><td>0                      </td><td>0                                    </td><td>0                                   </td><td>0                      </td><td>0                      </td><td>0              </td><td>0                            </td><td>0                     </td><td>0                           </td><td>0                      </td><td>0                        </td><td>0                            </td><td>0                       </td><td>0                       </td><td>0                       </td><td>0                       </td><td>0                              </td><td>0                </td><td>0                     </td><td>0                       </td><td>0                           </td><td>0                      </td><td>0                      </td><td>0                      </td><td>0                      </td><td>0                      </td><td>0                      </td></tr>\n",
       "<tr><td>...                               </td><td>...            </td><td>...            </td><td>...            </td><td>...            </td><td>...            </td><td>...            </td><td>...            </td><td>...           </td><td>...             </td><td>...                 </td><td>...           </td><td>...           </td><td>...           </td><td>...           </td><td>...           </td><td>...           </td><td>...          </td><td>...            </td><td>...                </td><td>...            </td><td>...                      </td><td>...                   </td><td>...        </td><td>...               </td><td>...                          </td><td>...                          </td><td>...                            </td><td>...                           </td><td>...                               </td><td>...                         </td><td>...                         </td><td>...                          </td><td>...                           </td><td>...                              </td><td>...                        </td><td>...                      </td><td>...                       </td><td>...                     </td><td>...                               </td><td>...                    </td><td>...                                  </td><td>...                                 </td><td>...                    </td><td>...                    </td><td>...            </td><td>...                          </td><td>...                   </td><td>...                         </td><td>...                    </td><td>...                      </td><td>...                          </td><td>...                     </td><td>...                     </td><td>...                     </td><td>...                     </td><td>...                            </td><td>...              </td><td>...                   </td><td>...                     </td><td>...                         </td><td>...                    </td><td>...                    </td><td>...                    </td><td>...                    </td><td>...                    </td><td>...                    </td></tr>\n",
       "<tr><td><i style='opacity: 0.6'>14,806</i></td><td>1696463970692.0</td><td>-422.1         </td><td>38.9           </td><td>69.2           </td><td>-422.1         </td><td>54.7           </td><td>57.5           </td><td>429.5         </td><td>6.57            </td><td>74829.0             </td><td>--            </td><td>--            </td><td>--            </td><td>--            </td><td>--            </td><td>--            </td><td>--           </td><td>--             </td><td>--                 </td><td>0              </td><td>0                        </td><td>0                     </td><td>0          </td><td>0                 </td><td>0                            </td><td>0                            </td><td>0                              </td><td>0                             </td><td>0                                 </td><td>0                           </td><td>0                           </td><td>0                            </td><td>0                             </td><td>0                                </td><td>0                          </td><td>0                        </td><td>0                         </td><td>0                       </td><td>0                                 </td><td>0                      </td><td>0                                    </td><td>0                                   </td><td>0                      </td><td>0                      </td><td>0              </td><td>0                            </td><td>0                     </td><td>0                           </td><td>0                      </td><td>0                        </td><td>0                            </td><td>0                       </td><td>0                       </td><td>0                       </td><td>0                       </td><td>0                              </td><td>0                </td><td>0                     </td><td>0                       </td><td>0                           </td><td>0                      </td><td>0                      </td><td>0                      </td><td>0                      </td><td>0                      </td><td>0                      </td></tr>\n",
       "<tr><td><i style='opacity: 0.6'>14,807</i></td><td>1696463976843.0</td><td>-421.5         </td><td>34.1           </td><td>71.1           </td><td>-421.5         </td><td>50.5           </td><td>60.5           </td><td>428.8         </td><td>6.71            </td><td>77990.0             </td><td>--            </td><td>--            </td><td>--            </td><td>--            </td><td>--            </td><td>--            </td><td>--           </td><td>--             </td><td>--                 </td><td>0              </td><td>0                        </td><td>0                     </td><td>0          </td><td>0                 </td><td>0                            </td><td>0                            </td><td>0                              </td><td>0                             </td><td>0                                 </td><td>0                           </td><td>0                           </td><td>0                            </td><td>0                             </td><td>0                                </td><td>0                          </td><td>0                        </td><td>0                         </td><td>0                       </td><td>0                                 </td><td>0                      </td><td>0                                    </td><td>0                                   </td><td>0                      </td><td>0                      </td><td>0              </td><td>0                            </td><td>0                     </td><td>0                           </td><td>0                      </td><td>0                        </td><td>0                            </td><td>0                       </td><td>0                       </td><td>0                       </td><td>0                       </td><td>0                              </td><td>0                </td><td>0                     </td><td>0                       </td><td>0                           </td><td>0                      </td><td>0                      </td><td>0                      </td><td>0                      </td><td>0                      </td><td>0                      </td></tr>\n",
       "<tr><td><i style='opacity: 0.6'>14,808</i></td><td>1696463982989.0</td><td>-421.5         </td><td>36.4           </td><td>71.0           </td><td>-421.5         </td><td>52.7           </td><td>59.9           </td><td>429.0         </td><td>6.82            </td><td>76997.0             </td><td>--            </td><td>--            </td><td>--            </td><td>--            </td><td>--            </td><td>--            </td><td>--           </td><td>--             </td><td>--                 </td><td>0              </td><td>0                        </td><td>0                     </td><td>0          </td><td>0                 </td><td>0                            </td><td>0                            </td><td>0                              </td><td>0                             </td><td>0                                 </td><td>0                           </td><td>0                           </td><td>0                            </td><td>0                             </td><td>0                                </td><td>0                          </td><td>0                        </td><td>0                         </td><td>0                       </td><td>0                                 </td><td>0                      </td><td>0                                    </td><td>0                                   </td><td>0                      </td><td>0                      </td><td>0              </td><td>0                            </td><td>0                     </td><td>0                           </td><td>0                      </td><td>0                        </td><td>0                            </td><td>0                       </td><td>0                       </td><td>0                       </td><td>0                       </td><td>0                              </td><td>0                </td><td>0                     </td><td>0                       </td><td>0                           </td><td>0                      </td><td>0                      </td><td>0                      </td><td>0                      </td><td>0                      </td><td>0                      </td></tr>\n",
       "<tr><td><i style='opacity: 0.6'>14,809</i></td><td>1696463989139.0</td><td>-421.6         </td><td>32.6           </td><td>66.6           </td><td>-421.6         </td><td>47.9           </td><td>56.5           </td><td>428.0         </td><td>6.62            </td><td>75076.0             </td><td>--            </td><td>--            </td><td>--            </td><td>--            </td><td>--            </td><td>--            </td><td>--           </td><td>--             </td><td>--                 </td><td>0              </td><td>0                        </td><td>0                     </td><td>0          </td><td>0                 </td><td>0                            </td><td>0                            </td><td>0                              </td><td>0                             </td><td>0                                 </td><td>0                           </td><td>0                           </td><td>0                            </td><td>0                             </td><td>0                                </td><td>0                          </td><td>0                        </td><td>0                         </td><td>0                       </td><td>0                                 </td><td>0                      </td><td>0                                    </td><td>0                                   </td><td>0                      </td><td>0                      </td><td>0              </td><td>0                            </td><td>0                     </td><td>0                           </td><td>0                      </td><td>0                        </td><td>0                            </td><td>0                       </td><td>0                       </td><td>0                       </td><td>0                       </td><td>0                              </td><td>0                </td><td>0                     </td><td>0                       </td><td>0                           </td><td>0                      </td><td>0                      </td><td>0                      </td><td>0                      </td><td>0                      </td><td>0                      </td></tr>\n",
       "<tr><td><i style='opacity: 0.6'>14,810</i></td><td>1696463995290.0</td><td>-421.6         </td><td>28.2           </td><td>77.9           </td><td>-421.6         </td><td>46.4           </td><td>68.6           </td><td>429.6         </td><td>6.78            </td><td>78546.0             </td><td>--            </td><td>--            </td><td>--            </td><td>--            </td><td>--            </td><td>--            </td><td>--           </td><td>--             </td><td>--                 </td><td>0              </td><td>0                        </td><td>0                     </td><td>0          </td><td>0                 </td><td>0                            </td><td>0                            </td><td>0                              </td><td>0                             </td><td>0                                 </td><td>0                           </td><td>0                           </td><td>0                            </td><td>0                             </td><td>0                                </td><td>0                          </td><td>0                        </td><td>0                         </td><td>0                       </td><td>0                                 </td><td>0                      </td><td>0                                    </td><td>0                                   </td><td>0                      </td><td>0                      </td><td>0              </td><td>0                            </td><td>0                     </td><td>0                           </td><td>0                      </td><td>0                        </td><td>0                            </td><td>0                       </td><td>0                       </td><td>0                       </td><td>0                       </td><td>0                              </td><td>0                </td><td>0                     </td><td>0                       </td><td>0                           </td><td>0                      </td><td>0                      </td><td>0                      </td><td>0                      </td><td>0                      </td><td>0                      </td></tr>\n",
       "</tbody>\n",
       "</table>"
      ],
      "text/plain": [
       "#       time             proton_vx_gse    proton_vy_gse    proton_vz_gse    proton_vx_gsm    proton_vy_gsm    proton_vz_gsm    proton_speed    proton_density    proton_temperature    alpha_vx_gse    alpha_vy_gse    alpha_vz_gse    alpha_vx_gsm    alpha_vy_gsm    alpha_vz_gsm    alpha_speed    alpha_density    alpha_temperature    backfill_flag    future_packet_time_flag    old_packet_time_flag    fill_flag    normal_mode_flag    proton_peak_unresolved_flag    proton_alpha_confusion_flag    proton_out_of_range_high_flag    proton_out_of_range_low_flag    proton_out_of_range_unknown_flag    proton_peak_unbounded_flag    alpha_peak_unresolved_flag    alpha_proton_confusion_flag    alpha_out_of_range_high_flag    alpha_out_of_range_unknown_flag    alpha_peak_unbounded_flag    alpha_position_low_flag    alpha_position_high_flag    alpha_peak_height_flag    possible_second_proton_peak_flag    large_flow_angle_flag    unexpected_peak_location_right_flag    unexpected_peak_location_left_flag    proton_peak_loss_flag    calibration_mode_flag    maneuver_flag    reduced_proton_quality_flag    alpha_peak_loss_flag    reduced_alpha_quality_flag    bad_proton_speed_flag    bad_proton_density_flag    bad_proton_temperature_flag    bad_proton_vx_gse_flag    bad_proton_vy_gse_flag    bad_proton_vz_gse_flag    bad_proton_vx_gsm_flag    bad_proton_proton_vy_gsm_flag    bad_vz_gsm_flag    bad_alpha_speed_flag    bad_alpha_density_flag    bad_alpha_temperature_flag    bad_alpha_vx_gse_flag    bad_alpha_vy_gse_flag    bad_alpha_vz_gse_flag    bad_alpha_vx_gsm_flag    bad_alpha_vy_gsm_flag    bad_alpha_vz_gsm_flag\n",
       "0       1696377600527.0  -390.2           -8.5             -7.0             -390.2           -10.0            -4.6             390.4           3.06              130591.0              --              --              --              --              --              --              --             --               --                   0                0                          0                       0            0                   0                              0                              0                                0                               0                                   0                             0                             0                              0                               0                                  0                            0                          0                           0                         0                                   1                        0                                      0                                     0                        0                        0                1                              0                       0                             0                        0                          0                              0                         0                         0                         0                         0                                0                  0                       0                         0                             0                        0                        0                        0                        0                        0\n",
       "1       1696377605799.0  -392.7           -8.6             -7.0             -392.7           -10.1            -4.7             392.9           3.15              129844.0              --              --              --              --              --              --              --             --               --                   0                0                          0                       0            0                   0                              0                              0                                0                               0                                   0                             0                             0                              0                               0                                  0                            0                          0                           0                         0                                   1                        1                                      0                                     0                        0                        0                1                              0                       0                             0                        0                          0                              0                         0                         0                         0                         0                                0                  0                       0                         0                             0                        0                        0                        0                        0                        0\n",
       "2       1696377611070.0  -390.9           -8.6             -7.0             -390.9           -10.0            -4.7             391.1           3.17              135090.0              --              --              --              --              --              --              --             --               --                   0                0                          0                       0            0                   0                              0                              0                                0                               0                                   0                             0                             0                              0                               0                                  0                            0                          0                           0                         0                                   1                        1                                      0                                     0                        0                        0                1                              0                       0                             0                        0                          0                              0                         0                         0                         0                         0                                0                  0                       0                         0                             0                        0                        0                        0                        0                        0\n",
       "3       1696377616342.0  -386.6           -123.4           1.2              -386.6           -119.3           31.6             405.9           3.37              123702.0              --              --              --              --              --              --              --             --               --                   0                0                          0                       0            0                   0                              0                              0                                0                               0                                   0                             0                             0                              0                               0                                  0                            0                          0                           0                         0                                   0                        1                                      0                                     0                        0                        0                1                              0                       0                             0                        0                          0                              0                         0                         0                         0                         0                                0                  0                       0                         0                             0                        0                        0                        0                        0                        0\n",
       "4       1696377621613.0  -385.4           -109.7           -9.3             -385.4           -108.6           18.1             400.8           3.6               119270.0              --              --              --              --              --              --              --             --               --                   0                0                          0                       0            0                   0                              0                              0                                0                               0                                   0                             0                             0                              0                               0                                  0                            0                          0                           0                         0                                   0                        0                                      0                                     0                        0                        0                0                              0                       0                             0                        0                          0                              0                         0                         0                         0                         0                                0                  0                       0                         0                             0                        0                        0                        0                        0                        0\n",
       "...     ...              ...              ...              ...              ...              ...              ...              ...             ...               ...                   ...             ...             ...             ...             ...             ...             ...            ...              ...                  ...              ...                        ...                     ...          ...                 ...                            ...                            ...                              ...                             ...                                 ...                           ...                           ...                            ...                             ...                                ...                          ...                        ...                         ...                       ...                                 ...                      ...                                    ...                                   ...                      ...                      ...              ...                            ...                     ...                           ...                      ...                        ...                            ...                       ...                       ...                       ...                       ...                              ...                ...                     ...                       ...                           ...                      ...                      ...                      ...                      ...                      ...\n",
       "14,806  1696463970692.0  -422.1           38.9             69.2             -422.1           54.7             57.5             429.5           6.57              74829.0               --              --              --              --              --              --              --             --               --                   0                0                          0                       0            0                   0                              0                              0                                0                               0                                   0                             0                             0                              0                               0                                  0                            0                          0                           0                         0                                   0                        0                                      0                                     0                        0                        0                0                              0                       0                             0                        0                          0                              0                         0                         0                         0                         0                                0                  0                       0                         0                             0                        0                        0                        0                        0                        0\n",
       "14,807  1696463976843.0  -421.5           34.1             71.1             -421.5           50.5             60.5             428.8           6.71              77990.0               --              --              --              --              --              --              --             --               --                   0                0                          0                       0            0                   0                              0                              0                                0                               0                                   0                             0                             0                              0                               0                                  0                            0                          0                           0                         0                                   0                        0                                      0                                     0                        0                        0                0                              0                       0                             0                        0                          0                              0                         0                         0                         0                         0                                0                  0                       0                         0                             0                        0                        0                        0                        0                        0\n",
       "14,808  1696463982989.0  -421.5           36.4             71.0             -421.5           52.7             59.9             429.0           6.82              76997.0               --              --              --              --              --              --              --             --               --                   0                0                          0                       0            0                   0                              0                              0                                0                               0                                   0                             0                             0                              0                               0                                  0                            0                          0                           0                         0                                   0                        0                                      0                                     0                        0                        0                0                              0                       0                             0                        0                          0                              0                         0                         0                         0                         0                                0                  0                       0                         0                             0                        0                        0                        0                        0                        0\n",
       "14,809  1696463989139.0  -421.6           32.6             66.6             -421.6           47.9             56.5             428.0           6.62              75076.0               --              --              --              --              --              --              --             --               --                   0                0                          0                       0            0                   0                              0                              0                                0                               0                                   0                             0                             0                              0                               0                                  0                            0                          0                           0                         0                                   0                        0                                      0                                     0                        0                        0                0                              0                       0                             0                        0                          0                              0                         0                         0                         0                         0                                0                  0                       0                         0                             0                        0                        0                        0                        0                        0\n",
       "14,810  1696463995290.0  -421.6           28.2             77.9             -421.6           46.4             68.6             429.6           6.78              78546.0               --              --              --              --              --              --              --             --               --                   0                0                          0                       0            0                   0                              0                              0                                0                               0                                   0                             0                             0                              0                               0                                  0                            0                          0                           0                         0                                   0                        0                                      0                                     0                        0                        0                0                              0                       0                             0                        0                          0                              0                         0                         0                         0                         0                                0                  0                       0                         0                             0                        0                        0                        0                        0                        0"
      ]
     },
     "execution_count": 27,
     "metadata": {},
     "output_type": "execute_result"
    }
   ],
   "source": [
    "d"
   ]
  },
  {
   "cell_type": "code",
   "execution_count": 30,
   "metadata": {},
   "outputs": [],
   "source": [
    "x = c['time']"
   ]
  },
  {
   "cell_type": "code",
   "execution_count": 32,
   "metadata": {},
   "outputs": [],
   "source": [
    "y = d['time']"
   ]
  },
  {
   "cell_type": "code",
   "execution_count": 33,
   "metadata": {},
   "outputs": [],
   "source": [
    "import numpy as np"
   ]
  },
  {
   "cell_type": "code",
   "execution_count": 34,
   "metadata": {},
   "outputs": [],
   "source": [
    "x = np.array(x)\n",
    "y = np.array(y)"
   ]
  },
  {
   "cell_type": "code",
   "execution_count": 35,
   "metadata": {},
   "outputs": [
    {
     "ename": "AssertionError",
     "evalue": "",
     "output_type": "error",
     "traceback": [
      "\u001b[0;31m---------------------------------------------------------------------------\u001b[0m",
      "\u001b[0;31mAssertionError\u001b[0m                            Traceback (most recent call last)",
      "\u001b[1;32m/home/harsh/Documents/nasa/Codes_Only/test.ipynb Cell 29\u001b[0m line \u001b[0;36m1\n\u001b[0;32m----> <a href='vscode-notebook-cell:/home/harsh/Documents/nasa/Codes_Only/test.ipynb#X44sZmlsZQ%3D%3D?line=0'>1</a>\u001b[0m np\u001b[39m.\u001b[39;49marray_equal(x,y)\n",
      "File \u001b[0;32m~/anaconda3/envs/nasa/lib/python3.10/site-packages/numpy/core/numeric.py:2439\u001b[0m, in \u001b[0;36marray_equal\u001b[0;34m(a1, a2, equal_nan)\u001b[0m\n\u001b[1;32m   2437\u001b[0m     \u001b[39mreturn\u001b[39;00m \u001b[39mFalse\u001b[39;00m\n\u001b[1;32m   2438\u001b[0m \u001b[39mif\u001b[39;00m \u001b[39mnot\u001b[39;00m equal_nan:\n\u001b[0;32m-> 2439\u001b[0m     \u001b[39mreturn\u001b[39;00m \u001b[39mbool\u001b[39m(asarray(a1 \u001b[39m==\u001b[39;49m a2)\u001b[39m.\u001b[39mall())\n\u001b[1;32m   2440\u001b[0m \u001b[39m# Handling NaN values if equal_nan is True\u001b[39;00m\n\u001b[1;32m   2441\u001b[0m a1nan, a2nan \u001b[39m=\u001b[39m isnan(a1), isnan(a2)\n",
      "File \u001b[0;32m~/anaconda3/envs/nasa/lib/python3.10/site-packages/vaex/expression.py:139\u001b[0m, in \u001b[0;36mMeta.__new__.<locals>.wrap.<locals>.f\u001b[0;34m(a, b)\u001b[0m\n\u001b[1;32m    137\u001b[0m \u001b[39melse\u001b[39;00m:\n\u001b[1;32m    138\u001b[0m     \u001b[39mif\u001b[39;00m \u001b[39misinstance\u001b[39m(b, Expression):\n\u001b[0;32m--> 139\u001b[0m         \u001b[39massert\u001b[39;00m b\u001b[39m.\u001b[39mds \u001b[39m==\u001b[39m a\u001b[39m.\u001b[39mds\n\u001b[1;32m    140\u001b[0m         b \u001b[39m=\u001b[39m b\u001b[39m.\u001b[39mexpression\n\u001b[1;32m    141\u001b[0m     \u001b[39melif\u001b[39;00m \u001b[39misinstance\u001b[39m(b, (np\u001b[39m.\u001b[39mtimedelta64)):\n",
      "\u001b[0;31mAssertionError\u001b[0m: "
     ]
    }
   ],
   "source": [
    "np.array_equal(x,y)"
   ]
  },
  {
   "cell_type": "code",
   "execution_count": 45,
   "metadata": {},
   "outputs": [],
   "source": [
    "import pandas as pd"
   ]
  },
  {
   "cell_type": "code",
   "execution_count": 46,
   "metadata": {},
   "outputs": [],
   "source": [
    "df1 = pd.read_csv(\"../Level1-fc-CSV/oe_fc1_dscovr_s20231004000000_e20231004235959_p20231005022524_pub.csv\",usecols=[\"time\"])"
   ]
  },
  {
   "cell_type": "code",
   "execution_count": 47,
   "metadata": {},
   "outputs": [
    {
     "data": {
      "text/html": [
       "<div>\n",
       "<style scoped>\n",
       "    .dataframe tbody tr th:only-of-type {\n",
       "        vertical-align: middle;\n",
       "    }\n",
       "\n",
       "    .dataframe tbody tr th {\n",
       "        vertical-align: top;\n",
       "    }\n",
       "\n",
       "    .dataframe thead th {\n",
       "        text-align: right;\n",
       "    }\n",
       "</style>\n",
       "<table border=\"1\" class=\"dataframe\">\n",
       "  <thead>\n",
       "    <tr style=\"text-align: right;\">\n",
       "      <th></th>\n",
       "      <th>time</th>\n",
       "    </tr>\n",
       "  </thead>\n",
       "  <tbody>\n",
       "    <tr>\n",
       "      <th>0</th>\n",
       "      <td>1.696378e+12</td>\n",
       "    </tr>\n",
       "    <tr>\n",
       "      <th>1</th>\n",
       "      <td>1.696378e+12</td>\n",
       "    </tr>\n",
       "    <tr>\n",
       "      <th>2</th>\n",
       "      <td>1.696378e+12</td>\n",
       "    </tr>\n",
       "    <tr>\n",
       "      <th>3</th>\n",
       "      <td>1.696378e+12</td>\n",
       "    </tr>\n",
       "    <tr>\n",
       "      <th>4</th>\n",
       "      <td>1.696378e+12</td>\n",
       "    </tr>\n",
       "    <tr>\n",
       "      <th>...</th>\n",
       "      <td>...</td>\n",
       "    </tr>\n",
       "    <tr>\n",
       "      <th>14806</th>\n",
       "      <td>1.696464e+12</td>\n",
       "    </tr>\n",
       "    <tr>\n",
       "      <th>14807</th>\n",
       "      <td>1.696464e+12</td>\n",
       "    </tr>\n",
       "    <tr>\n",
       "      <th>14808</th>\n",
       "      <td>1.696464e+12</td>\n",
       "    </tr>\n",
       "    <tr>\n",
       "      <th>14809</th>\n",
       "      <td>1.696464e+12</td>\n",
       "    </tr>\n",
       "    <tr>\n",
       "      <th>14810</th>\n",
       "      <td>1.696464e+12</td>\n",
       "    </tr>\n",
       "  </tbody>\n",
       "</table>\n",
       "<p>14811 rows × 1 columns</p>\n",
       "</div>"
      ],
      "text/plain": [
       "               time\n",
       "0      1.696378e+12\n",
       "1      1.696378e+12\n",
       "2      1.696378e+12\n",
       "3      1.696378e+12\n",
       "4      1.696378e+12\n",
       "...             ...\n",
       "14806  1.696464e+12\n",
       "14807  1.696464e+12\n",
       "14808  1.696464e+12\n",
       "14809  1.696464e+12\n",
       "14810  1.696464e+12\n",
       "\n",
       "[14811 rows x 1 columns]"
      ]
     },
     "execution_count": 47,
     "metadata": {},
     "output_type": "execute_result"
    }
   ],
   "source": [
    "df1"
   ]
  },
  {
   "cell_type": "code",
   "execution_count": 48,
   "metadata": {},
   "outputs": [],
   "source": [
    "df2 = pd.read_csv(\"../Level1-mg-CSV/oe_mg1_dscovr_s20231004000000_e20231004235959_p20231005013851_pub.csv\",usecols=[\"time\"])"
   ]
  },
  {
   "cell_type": "code",
   "execution_count": 59,
   "metadata": {},
   "outputs": [
    {
     "data": {
      "text/plain": [
       "time\n",
       "False    14131\n",
       "True       680\n",
       "Name: count, dtype: int64"
      ]
     },
     "execution_count": 59,
     "metadata": {},
     "output_type": "execute_result"
    }
   ],
   "source": [
    "df1['time'].isin(df2['time']).value_counts()"
   ]
  },
  {
   "cell_type": "code",
   "execution_count": 60,
   "metadata": {},
   "outputs": [
    {
     "data": {
      "text/plain": [
       "time\n",
       "False    4205505\n",
       "True         680\n",
       "Name: count, dtype: int64"
      ]
     },
     "execution_count": 60,
     "metadata": {},
     "output_type": "execute_result"
    }
   ],
   "source": [
    "df2['time'].isin(df1['time']).value_counts()"
   ]
  },
  {
   "cell_type": "code",
   "execution_count": 65,
   "metadata": {},
   "outputs": [],
   "source": [
    "df1 = None\n",
    "df2 = None\n",
    "a =None \n",
    "b= None\n",
    "c = None\n",
    "d= None\n",
    "zz = None\n",
    "x= None\n",
    "y = None"
   ]
  },
  {
   "cell_type": "code",
   "execution_count": 102,
   "metadata": {},
   "outputs": [],
   "source": [
    "df1 = pd.read_csv(\"../Level1-mg-CSV/oe_mg1_dscovr_s20231006000000_e20231006235959_p20231007013901_pub.csv\",engine=\"pyarrow\")\n",
    "df2 = pd.read_csv(\"../Level1-fc-CSV/oe_fc1_dscovr_s20231006000000_e20231006235959_p20231007022609_pub.csv\", engine=\"pyarrow\")"
   ]
  },
  {
   "cell_type": "code",
   "execution_count": 103,
   "metadata": {},
   "outputs": [
    {
     "data": {
      "text/plain": [
       "1013"
      ]
     },
     "execution_count": 103,
     "metadata": {},
     "output_type": "execute_result"
    }
   ],
   "source": [
    "import pandas as pd\n",
    "\n",
    "# Assuming you have loaded your data into df1 and df2 dataframes\n",
    "\n",
    "# Check the common time entries\n",
    "common_times = df1[df1['time'].isin(df2['time'])]['time']\n",
    "\n",
    "len(common_times)"
   ]
  },
  {
   "cell_type": "code",
   "execution_count": 98,
   "metadata": {},
   "outputs": [
    {
     "name": "stdout",
     "output_type": "stream",
     "text": [
      "Success\n"
     ]
    }
   ],
   "source": [
    "import pandas as pd\n",
    "\n",
    "# Sample DataFrames (replace these with your actual DataFrames)\n",
    "# df1 = pd.DataFrame(...)\n",
    "# df2 = pd.DataFrame(...)\n",
    "\n",
    "# Check if 'time' column in df1 is present in 'time' column of df2\n",
    "common_times = df1[df1['time'].isin(df2['time'])]\n",
    "\n",
    "# Merge the common rows from df1 and add all columns of df1 to the merged DataFrame\n",
    "merged_df = common_times.merge(df1, on='time')\n",
    "\n",
    "# Save the merged DataFrame to a new CSV file\n",
    "merged_df.to_csv('../Dataset/final_mg.csv', index=False)\n",
    "\n",
    "print(\"Success\")\n"
   ]
  },
  {
   "cell_type": "code",
   "execution_count": 84,
   "metadata": {},
   "outputs": [
    {
     "data": {
      "text/plain": [
       "time\n",
       "False    11920\n",
       "True       908\n",
       "Name: count, dtype: int64"
      ]
     },
     "execution_count": 84,
     "metadata": {},
     "output_type": "execute_result"
    }
   ],
   "source": [
    "df2['time'].isin(df1['time']).value_counts()"
   ]
  },
  {
   "cell_type": "code",
   "execution_count": 104,
   "metadata": {},
   "outputs": [
    {
     "name": "stdout",
     "output_type": "stream",
     "text": [
      "Success\n"
     ]
    }
   ],
   "source": [
    "import pandas as pd\n",
    "\n",
    "# Sample DataFrames (replace these with your actual DataFrames)\n",
    "# df1 = pd.DataFrame(...)\n",
    "# df2 = pd.DataFrame(...)\n",
    "\n",
    "# Check if 'time' column in df1 is present in 'time' column of df2\n",
    "common_times = df1[df1['time'].isin(df2['time'])]\n",
    "\n",
    "# Merge the common rows from df1 and add all columns of df1 to the merged DataFrame\n",
    "merged_df = common_times.merge(df1, on='time')\n",
    "\n",
    "# Save the merged DataFrame to 'merged_data.csv' in append mode\n",
    "merged_df.to_csv('../Dataset/final_mg.csv', mode='a', header=False, index=False)\n",
    "\n",
    "print(\"Success\")\n"
   ]
  },
  {
   "cell_type": "code",
   "execution_count": null,
   "metadata": {},
   "outputs": [],
   "source": []
  }
 ],
 "metadata": {
  "kernelspec": {
   "display_name": "nasa",
   "language": "python",
   "name": "python3"
  },
  "language_info": {
   "codemirror_mode": {
    "name": "ipython",
    "version": 3
   },
   "file_extension": ".py",
   "mimetype": "text/x-python",
   "name": "python",
   "nbconvert_exporter": "python",
   "pygments_lexer": "ipython3",
   "version": "3.10.13"
  }
 },
 "nbformat": 4,
 "nbformat_minor": 2
}
