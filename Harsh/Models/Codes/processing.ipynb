{
 "cells": [
  {
   "cell_type": "code",
   "execution_count": 1,
   "metadata": {},
   "outputs": [],
   "source": [
    "import pandas as pd"
   ]
  },
  {
   "cell_type": "code",
   "execution_count": 2,
   "metadata": {},
   "outputs": [
    {
     "name": "stdout",
     "output_type": "stream",
     "text": [
      "['YYYY MM DD  days  days_m  Bsr dB    Kp1    Kp2    Kp3    Kp4    Kp5    Kp6    Kp7    Kp8  ap1  ap2  ap3  ap4  ap5  ap6  ap7  ap8    Ap  SN F10.7obs F10.7adj D', '1932 01 01     0     0.5 1352 10  3.333  2.667  2.333  2.667  3.333  2.667  3.333  3.333   18   12    9   12   18   12   18   18    15  22     -1.0     -1.0 2', '1932 01 02     1     1.5 1352 11  3.667  3.667  3.333  3.667  3.333  4.667  3.000  5.000   22   22   18   22   18   39   15   48    26  43     -1.0     -1.0 2', '1932 01 03     2     2.5 1352 12  3.333  3.333  3.000  1.000  2.333  1.667  2.667  2.000   18   18   15    4    9    6   12    7    11  23     -1.0     -1.0 2', '1932 01 04     3     3.5 1352 13  2.000  0.333  1.000  0.000  1.000  1.333  1.333  1.000    7    2    4    0    4    5    5    4     4  13     -1.0     -1.0 2']\n"
     ]
    }
   ],
   "source": [
    "# Read txt file line by line and store to a list\n",
    "with open('../new/Kp-since-1932.txt', 'r') as f:\n",
    "    lines = f.readlines()\n",
    "    lines = [line.strip() for line in lines]\n",
    "\n",
    "print(lines[0:5])"
   ]
  },
  {
   "cell_type": "code",
   "execution_count": 3,
   "metadata": {},
   "outputs": [],
   "source": [
    "import re\n",
    "\n",
    "def compress_whitespace(input_string):\n",
    "    # Use a regular expression to replace multiple whitespaces with a single space\n",
    "    compressed_string = re.sub(r'\\s+', ' ', input_string)\n",
    "    return compressed_string\n",
    "\n",
    "# Example usage:\n",
    "fixed = []\n",
    "for i in lines:\n",
    "    fixed.append(compress_whitespace(i))\n"
   ]
  },
  {
   "cell_type": "code",
   "execution_count": 4,
   "metadata": {},
   "outputs": [
    {
     "name": "stdout",
     "output_type": "stream",
     "text": [
      "['YYYY MM DD days days_m Bsr dB Kp1 Kp2 Kp3 Kp4 Kp5 Kp6 Kp7 Kp8 ap1 ap2 ap3 ap4 ap5 ap6 ap7 ap8 Ap SN F10.7obs F10.7adj D', '1932 01 01 0 0.5 1352 10 3.333 2.667 2.333 2.667 3.333 2.667 3.333 3.333 18 12 9 12 18 12 18 18 15 22 -1.0 -1.0 2', '1932 01 02 1 1.5 1352 11 3.667 3.667 3.333 3.667 3.333 4.667 3.000 5.000 22 22 18 22 18 39 15 48 26 43 -1.0 -1.0 2', '1932 01 03 2 2.5 1352 12 3.333 3.333 3.000 1.000 2.333 1.667 2.667 2.000 18 18 15 4 9 6 12 7 11 23 -1.0 -1.0 2', '1932 01 04 3 3.5 1352 13 2.000 0.333 1.000 0.000 1.000 1.333 1.333 1.000 7 2 4 0 4 5 5 4 4 13 -1.0 -1.0 2']\n"
     ]
    }
   ],
   "source": [
    "print(fixed[0:5])"
   ]
  },
  {
   "cell_type": "code",
   "execution_count": 5,
   "metadata": {},
   "outputs": [
    {
     "name": "stdout",
     "output_type": "stream",
     "text": [
      "Data has been written to data.csv\n"
     ]
    }
   ],
   "source": [
    "import csv\n",
    "\n",
    "\n",
    "# Define the CSV file name\n",
    "csv_file_name = 'data.csv'\n",
    "\n",
    "# Split the headers and entries\n",
    "headers = fixed[0].split()\n",
    "entries = [entry.split() for entry in fixed[1:]]\n",
    "\n",
    "# Write data to the CSV file\n",
    "with open(csv_file_name, 'w', newline='') as csv_file:\n",
    "    csv_writer = csv.writer(csv_file)\n",
    "    \n",
    "    # Write the headers\n",
    "    csv_writer.writerow(headers)\n",
    "    \n",
    "    # Write the entries\n",
    "    csv_writer.writerows(entries)\n",
    "\n",
    "print(f'Data has been written to {csv_file_name}')\n"
   ]
  },
  {
   "cell_type": "code",
   "execution_count": null,
   "metadata": {},
   "outputs": [],
   "source": []
  }
 ],
 "metadata": {
  "kernelspec": {
   "display_name": "SpaceApps",
   "language": "python",
   "name": "python3"
  },
  "language_info": {
   "codemirror_mode": {
    "name": "ipython",
    "version": 3
   },
   "file_extension": ".py",
   "mimetype": "text/x-python",
   "name": "python",
   "nbconvert_exporter": "python",
   "pygments_lexer": "ipython3",
   "version": "3.10.13"
  }
 },
 "nbformat": 4,
 "nbformat_minor": 2
}
