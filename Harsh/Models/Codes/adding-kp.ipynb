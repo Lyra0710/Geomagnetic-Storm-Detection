{
 "cells": [
  {
   "cell_type": "code",
   "execution_count": 4,
   "metadata": {},
   "outputs": [],
   "source": [
    "import pandas as pd\n",
    "\n",
    "# Load the first CSV file (kp-since-2023.csv)\n",
    "kp_df = pd.read_csv('../Data/Kp-since-2023.csv')\n",
    "\n",
    "# Load the second CSV file (3hr-values.csv)\n",
    "values_df = pd.read_csv('../Data/3hr-values.csv')\n",
    "\n",
    "# Merge the two dataframes on the 'Date' column\n",
    "merged_df = pd.merge(kp_df, values_df, on='Date')\n",
    "\n",
    "# List of time values\n",
    "time_values = ['00:00:00', '03:00:00', '06:00:00', '09:00:00', '12:00:00', '15:00:00', '18:00:00', '21:00:00']\n",
    "\n",
    "# Iterate over the time values and add corresponding kp values\n",
    "for i, time in enumerate(time_values):\n",
    "    kp_column = f'Kp{i + 1}'  # Construct the kp column name (kp1, kp2, ..., kp8)\n",
    "    merged_df[time] = merged_df.apply(lambda row: row[kp_column] if row['Time'] == time else None, axis=1)\n",
    "\n",
    "# Sum the kp values for each time value\n",
    "merged_df['Total_Kp'] = merged_df[time_values].sum(axis=1)\n",
    "\n",
    "# Save the merged dataframe to a new CSV file\n",
    "merged_df.to_csv('../Data/Date-with-Kp.csv', index=False)\n"
   ]
  },
  {
   "cell_type": "code",
   "execution_count": null,
   "metadata": {},
   "outputs": [],
   "source": []
  }
 ],
 "metadata": {
  "kernelspec": {
   "display_name": "nasa",
   "language": "python",
   "name": "python3"
  },
  "language_info": {
   "codemirror_mode": {
    "name": "ipython",
    "version": 3
   },
   "file_extension": ".py",
   "mimetype": "text/x-python",
   "name": "python",
   "nbconvert_exporter": "python",
   "pygments_lexer": "ipython3",
   "version": "3.10.13"
  }
 },
 "nbformat": 4,
 "nbformat_minor": 2
}
